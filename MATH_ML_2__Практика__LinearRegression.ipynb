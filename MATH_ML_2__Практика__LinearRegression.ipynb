{
  "cells": [
    {
      "cell_type": "markdown",
      "metadata": {
        "id": "view-in-github",
        "colab_type": "text"
      },
      "source": [
        "<a href=\"https://colab.research.google.com/github/Jul-Summer/HW_PY13Visual_Churn/blob/main/MATH_ML_2__%D0%9F%D1%80%D0%B0%D0%BA%D1%82%D0%B8%D0%BA%D0%B0__LinearRegression.ipynb\" target=\"_parent\"><img src=\"https://colab.research.google.com/assets/colab-badge.svg\" alt=\"Open In Colab\"/></a>"
      ]
    },
    {
      "cell_type": "markdown",
      "id": "b054bd88",
      "metadata": {
        "id": "b054bd88"
      },
      "source": [
        "# <center> Линейная алгебра в контексте линейных методов. Практика.\n",
        "\n",
        "## <center> Прогнозирование выработки газа на скважинах."
      ]
    },
    {
      "cell_type": "markdown",
      "id": "325bc80b",
      "metadata": {
        "id": "325bc80b"
      },
      "source": [
        "## Постановка задачи"
      ]
    },
    {
      "cell_type": "markdown",
      "id": "8247bd54",
      "metadata": {
        "id": "8247bd54"
      },
      "source": [
        "У Василия, основателя компании «Газ-Таз-Ваз-Нефть», дела идут в гору: у него уже функционирует 200 скважин для добычи газа. В этом году он открывает 30 новых скважин. Однако в целях оптимизации расходов и повышения дохода Василию необходимо оценить, сколько денег будет приносить ему каждая из скважин, а также понять, какие факторы (параметры скважин) потенциально сильнее всего повлияют на объём добычи газа. Для этого Василий решил нанять вас как специалиста в области Data Science.\n",
        "\n",
        "Василий представляет вам набор данных о добыче газа на своих скважинах. Файл с данными вы можете скачать на платформе.\n",
        "\n",
        "**Признаки в данных:**\n",
        "\n",
        "* Well — идентификатор скважины;\n",
        "* Por — пористость скважины (%);\n",
        "* Perm — проницаемость скважины;\n",
        "* AI — акустический импеданс ($кг/м^2 * 10^6$);\n",
        "* Brittle — коэффициент хрупкости скважины (%);\n",
        "* TOC — общий органический углерод (%);\n",
        "* VR — коэффициент отражения витринита (%);\n",
        "* Prod — добыча газа в сутки (млн. кубических футов).\n",
        "\n",
        "**Ваша задача** — построить регрессионную модель, которая прогнозирует выработку газа на скважине (целевой признак — Prod) на основе остальных характеристик скважины, и проинтерпретировать результаты вашей модели.\n",
        "\n",
        "Разделим задачу на две части:\n",
        "* В первой мы построим простейшую модель линейной регрессии, проанализируем результаты её работы и выберем наиболее значимые факторы для прогнозирования.\n",
        "* Во второй мы займёмся построением модели полиномиальной регрессии с регуляризацией и посмотрим на итоговые результаты моделирования.\n"
      ]
    },
    {
      "cell_type": "markdown",
      "id": "d67d069e",
      "metadata": {
        "id": "d67d069e"
      },
      "source": [
        "Импортируем необходимые библиотеки:"
      ]
    },
    {
      "cell_type": "code",
      "execution_count": 1,
      "id": "83a555bc-8dff-4b7e-bba1-cd4f4a9e69b2",
      "metadata": {
        "id": "83a555bc-8dff-4b7e-bba1-cd4f4a9e69b2"
      },
      "outputs": [],
      "source": [
        "# Импорт библиотек\n",
        "import pandas as pd  # Работа с таблицами\n",
        "import numpy as np  # Математические операции\n",
        "import matplotlib.pyplot as plt  # Визуализация данных\n",
        "import seaborn as sns  # Улучшенная визуализация\n",
        "from sklearn.model_selection import train_test_split  # Разделение данных\n",
        "from sklearn.linear_model import LinearRegression  # Линейная регрессия\n",
        "from sklearn.metrics import mean_absolute_error, mean_squared_error, r2_score  # Оценка модели\n",
        "\n",
        "%matplotlib inline"
      ]
    },
    {
      "cell_type": "code",
      "source": [
        "from google.colab import files\n",
        "uploaded = files.upload()"
      ],
      "metadata": {
        "colab": {
          "base_uri": "https://localhost:8080/",
          "height": 73
        },
        "id": "c5FVr-w_TI7l",
        "outputId": "0f448cd6-3741-4e6a-ef3a-b484374f93b8"
      },
      "id": "c5FVr-w_TI7l",
      "execution_count": 2,
      "outputs": [
        {
          "output_type": "display_data",
          "data": {
            "text/plain": [
              "<IPython.core.display.HTML object>"
            ],
            "text/html": [
              "\n",
              "     <input type=\"file\" id=\"files-8be75753-792a-47b2-8f7e-d6808c5b6174\" name=\"files[]\" multiple disabled\n",
              "        style=\"border:none\" />\n",
              "     <output id=\"result-8be75753-792a-47b2-8f7e-d6808c5b6174\">\n",
              "      Upload widget is only available when the cell has been executed in the\n",
              "      current browser session. Please rerun this cell to enable.\n",
              "      </output>\n",
              "      <script>// Copyright 2017 Google LLC\n",
              "//\n",
              "// Licensed under the Apache License, Version 2.0 (the \"License\");\n",
              "// you may not use this file except in compliance with the License.\n",
              "// You may obtain a copy of the License at\n",
              "//\n",
              "//      http://www.apache.org/licenses/LICENSE-2.0\n",
              "//\n",
              "// Unless required by applicable law or agreed to in writing, software\n",
              "// distributed under the License is distributed on an \"AS IS\" BASIS,\n",
              "// WITHOUT WARRANTIES OR CONDITIONS OF ANY KIND, either express or implied.\n",
              "// See the License for the specific language governing permissions and\n",
              "// limitations under the License.\n",
              "\n",
              "/**\n",
              " * @fileoverview Helpers for google.colab Python module.\n",
              " */\n",
              "(function(scope) {\n",
              "function span(text, styleAttributes = {}) {\n",
              "  const element = document.createElement('span');\n",
              "  element.textContent = text;\n",
              "  for (const key of Object.keys(styleAttributes)) {\n",
              "    element.style[key] = styleAttributes[key];\n",
              "  }\n",
              "  return element;\n",
              "}\n",
              "\n",
              "// Max number of bytes which will be uploaded at a time.\n",
              "const MAX_PAYLOAD_SIZE = 100 * 1024;\n",
              "\n",
              "function _uploadFiles(inputId, outputId) {\n",
              "  const steps = uploadFilesStep(inputId, outputId);\n",
              "  const outputElement = document.getElementById(outputId);\n",
              "  // Cache steps on the outputElement to make it available for the next call\n",
              "  // to uploadFilesContinue from Python.\n",
              "  outputElement.steps = steps;\n",
              "\n",
              "  return _uploadFilesContinue(outputId);\n",
              "}\n",
              "\n",
              "// This is roughly an async generator (not supported in the browser yet),\n",
              "// where there are multiple asynchronous steps and the Python side is going\n",
              "// to poll for completion of each step.\n",
              "// This uses a Promise to block the python side on completion of each step,\n",
              "// then passes the result of the previous step as the input to the next step.\n",
              "function _uploadFilesContinue(outputId) {\n",
              "  const outputElement = document.getElementById(outputId);\n",
              "  const steps = outputElement.steps;\n",
              "\n",
              "  const next = steps.next(outputElement.lastPromiseValue);\n",
              "  return Promise.resolve(next.value.promise).then((value) => {\n",
              "    // Cache the last promise value to make it available to the next\n",
              "    // step of the generator.\n",
              "    outputElement.lastPromiseValue = value;\n",
              "    return next.value.response;\n",
              "  });\n",
              "}\n",
              "\n",
              "/**\n",
              " * Generator function which is called between each async step of the upload\n",
              " * process.\n",
              " * @param {string} inputId Element ID of the input file picker element.\n",
              " * @param {string} outputId Element ID of the output display.\n",
              " * @return {!Iterable<!Object>} Iterable of next steps.\n",
              " */\n",
              "function* uploadFilesStep(inputId, outputId) {\n",
              "  const inputElement = document.getElementById(inputId);\n",
              "  inputElement.disabled = false;\n",
              "\n",
              "  const outputElement = document.getElementById(outputId);\n",
              "  outputElement.innerHTML = '';\n",
              "\n",
              "  const pickedPromise = new Promise((resolve) => {\n",
              "    inputElement.addEventListener('change', (e) => {\n",
              "      resolve(e.target.files);\n",
              "    });\n",
              "  });\n",
              "\n",
              "  const cancel = document.createElement('button');\n",
              "  inputElement.parentElement.appendChild(cancel);\n",
              "  cancel.textContent = 'Cancel upload';\n",
              "  const cancelPromise = new Promise((resolve) => {\n",
              "    cancel.onclick = () => {\n",
              "      resolve(null);\n",
              "    };\n",
              "  });\n",
              "\n",
              "  // Wait for the user to pick the files.\n",
              "  const files = yield {\n",
              "    promise: Promise.race([pickedPromise, cancelPromise]),\n",
              "    response: {\n",
              "      action: 'starting',\n",
              "    }\n",
              "  };\n",
              "\n",
              "  cancel.remove();\n",
              "\n",
              "  // Disable the input element since further picks are not allowed.\n",
              "  inputElement.disabled = true;\n",
              "\n",
              "  if (!files) {\n",
              "    return {\n",
              "      response: {\n",
              "        action: 'complete',\n",
              "      }\n",
              "    };\n",
              "  }\n",
              "\n",
              "  for (const file of files) {\n",
              "    const li = document.createElement('li');\n",
              "    li.append(span(file.name, {fontWeight: 'bold'}));\n",
              "    li.append(span(\n",
              "        `(${file.type || 'n/a'}) - ${file.size} bytes, ` +\n",
              "        `last modified: ${\n",
              "            file.lastModifiedDate ? file.lastModifiedDate.toLocaleDateString() :\n",
              "                                    'n/a'} - `));\n",
              "    const percent = span('0% done');\n",
              "    li.appendChild(percent);\n",
              "\n",
              "    outputElement.appendChild(li);\n",
              "\n",
              "    const fileDataPromise = new Promise((resolve) => {\n",
              "      const reader = new FileReader();\n",
              "      reader.onload = (e) => {\n",
              "        resolve(e.target.result);\n",
              "      };\n",
              "      reader.readAsArrayBuffer(file);\n",
              "    });\n",
              "    // Wait for the data to be ready.\n",
              "    let fileData = yield {\n",
              "      promise: fileDataPromise,\n",
              "      response: {\n",
              "        action: 'continue',\n",
              "      }\n",
              "    };\n",
              "\n",
              "    // Use a chunked sending to avoid message size limits. See b/62115660.\n",
              "    let position = 0;\n",
              "    do {\n",
              "      const length = Math.min(fileData.byteLength - position, MAX_PAYLOAD_SIZE);\n",
              "      const chunk = new Uint8Array(fileData, position, length);\n",
              "      position += length;\n",
              "\n",
              "      const base64 = btoa(String.fromCharCode.apply(null, chunk));\n",
              "      yield {\n",
              "        response: {\n",
              "          action: 'append',\n",
              "          file: file.name,\n",
              "          data: base64,\n",
              "        },\n",
              "      };\n",
              "\n",
              "      let percentDone = fileData.byteLength === 0 ?\n",
              "          100 :\n",
              "          Math.round((position / fileData.byteLength) * 100);\n",
              "      percent.textContent = `${percentDone}% done`;\n",
              "\n",
              "    } while (position < fileData.byteLength);\n",
              "  }\n",
              "\n",
              "  // All done.\n",
              "  yield {\n",
              "    response: {\n",
              "      action: 'complete',\n",
              "    }\n",
              "  };\n",
              "}\n",
              "\n",
              "scope.google = scope.google || {};\n",
              "scope.google.colab = scope.google.colab || {};\n",
              "scope.google.colab._files = {\n",
              "  _uploadFiles,\n",
              "  _uploadFilesContinue,\n",
              "};\n",
              "})(self);\n",
              "</script> "
            ]
          },
          "metadata": {}
        },
        {
          "output_type": "stream",
          "name": "stdout",
          "text": [
            "Saving unconv.csv to unconv.csv\n"
          ]
        }
      ]
    },
    {
      "cell_type": "markdown",
      "id": "e689ddaf",
      "metadata": {
        "id": "e689ddaf"
      },
      "source": [
        "Прочитаем исходные данные:"
      ]
    },
    {
      "cell_type": "code",
      "execution_count": 3,
      "id": "b7b5cd9b-703f-4dbc-a6e3-61d583eafcac",
      "metadata": {
        "colab": {
          "base_uri": "https://localhost:8080/",
          "height": 206
        },
        "id": "b7b5cd9b-703f-4dbc-a6e3-61d583eafcac",
        "outputId": "94bb0562-8102-4987-ff91-eb84509dc84e"
      },
      "outputs": [
        {
          "output_type": "execute_result",
          "data": {
            "text/plain": [
              "   Well    Por  Perm    AI  Brittle   TOC    VR         Prod\n",
              "0     1  12.08  2.92  2.80    81.40  1.16  2.31  4165.196191\n",
              "1     2  12.38  3.53  3.22    46.17  0.89  1.88  3561.146205\n",
              "2     3  14.02  2.59  4.01    72.80  0.89  2.72  4284.348574\n",
              "3     4  17.67  6.75  2.63    39.81  1.08  1.88  5098.680869\n",
              "4     5  17.52  4.57  3.18    10.94  1.51  1.90  3406.132832"
            ],
            "text/html": [
              "\n",
              "  <div id=\"df-0a8e11f2-9e14-4d44-a0e3-c798b957d70a\" class=\"colab-df-container\">\n",
              "    <div>\n",
              "<style scoped>\n",
              "    .dataframe tbody tr th:only-of-type {\n",
              "        vertical-align: middle;\n",
              "    }\n",
              "\n",
              "    .dataframe tbody tr th {\n",
              "        vertical-align: top;\n",
              "    }\n",
              "\n",
              "    .dataframe thead th {\n",
              "        text-align: right;\n",
              "    }\n",
              "</style>\n",
              "<table border=\"1\" class=\"dataframe\">\n",
              "  <thead>\n",
              "    <tr style=\"text-align: right;\">\n",
              "      <th></th>\n",
              "      <th>Well</th>\n",
              "      <th>Por</th>\n",
              "      <th>Perm</th>\n",
              "      <th>AI</th>\n",
              "      <th>Brittle</th>\n",
              "      <th>TOC</th>\n",
              "      <th>VR</th>\n",
              "      <th>Prod</th>\n",
              "    </tr>\n",
              "  </thead>\n",
              "  <tbody>\n",
              "    <tr>\n",
              "      <th>0</th>\n",
              "      <td>1</td>\n",
              "      <td>12.08</td>\n",
              "      <td>2.92</td>\n",
              "      <td>2.80</td>\n",
              "      <td>81.40</td>\n",
              "      <td>1.16</td>\n",
              "      <td>2.31</td>\n",
              "      <td>4165.196191</td>\n",
              "    </tr>\n",
              "    <tr>\n",
              "      <th>1</th>\n",
              "      <td>2</td>\n",
              "      <td>12.38</td>\n",
              "      <td>3.53</td>\n",
              "      <td>3.22</td>\n",
              "      <td>46.17</td>\n",
              "      <td>0.89</td>\n",
              "      <td>1.88</td>\n",
              "      <td>3561.146205</td>\n",
              "    </tr>\n",
              "    <tr>\n",
              "      <th>2</th>\n",
              "      <td>3</td>\n",
              "      <td>14.02</td>\n",
              "      <td>2.59</td>\n",
              "      <td>4.01</td>\n",
              "      <td>72.80</td>\n",
              "      <td>0.89</td>\n",
              "      <td>2.72</td>\n",
              "      <td>4284.348574</td>\n",
              "    </tr>\n",
              "    <tr>\n",
              "      <th>3</th>\n",
              "      <td>4</td>\n",
              "      <td>17.67</td>\n",
              "      <td>6.75</td>\n",
              "      <td>2.63</td>\n",
              "      <td>39.81</td>\n",
              "      <td>1.08</td>\n",
              "      <td>1.88</td>\n",
              "      <td>5098.680869</td>\n",
              "    </tr>\n",
              "    <tr>\n",
              "      <th>4</th>\n",
              "      <td>5</td>\n",
              "      <td>17.52</td>\n",
              "      <td>4.57</td>\n",
              "      <td>3.18</td>\n",
              "      <td>10.94</td>\n",
              "      <td>1.51</td>\n",
              "      <td>1.90</td>\n",
              "      <td>3406.132832</td>\n",
              "    </tr>\n",
              "  </tbody>\n",
              "</table>\n",
              "</div>\n",
              "    <div class=\"colab-df-buttons\">\n",
              "\n",
              "  <div class=\"colab-df-container\">\n",
              "    <button class=\"colab-df-convert\" onclick=\"convertToInteractive('df-0a8e11f2-9e14-4d44-a0e3-c798b957d70a')\"\n",
              "            title=\"Convert this dataframe to an interactive table.\"\n",
              "            style=\"display:none;\">\n",
              "\n",
              "  <svg xmlns=\"http://www.w3.org/2000/svg\" height=\"24px\" viewBox=\"0 -960 960 960\">\n",
              "    <path d=\"M120-120v-720h720v720H120Zm60-500h600v-160H180v160Zm220 220h160v-160H400v160Zm0 220h160v-160H400v160ZM180-400h160v-160H180v160Zm440 0h160v-160H620v160ZM180-180h160v-160H180v160Zm440 0h160v-160H620v160Z\"/>\n",
              "  </svg>\n",
              "    </button>\n",
              "\n",
              "  <style>\n",
              "    .colab-df-container {\n",
              "      display:flex;\n",
              "      gap: 12px;\n",
              "    }\n",
              "\n",
              "    .colab-df-convert {\n",
              "      background-color: #E8F0FE;\n",
              "      border: none;\n",
              "      border-radius: 50%;\n",
              "      cursor: pointer;\n",
              "      display: none;\n",
              "      fill: #1967D2;\n",
              "      height: 32px;\n",
              "      padding: 0 0 0 0;\n",
              "      width: 32px;\n",
              "    }\n",
              "\n",
              "    .colab-df-convert:hover {\n",
              "      background-color: #E2EBFA;\n",
              "      box-shadow: 0px 1px 2px rgba(60, 64, 67, 0.3), 0px 1px 3px 1px rgba(60, 64, 67, 0.15);\n",
              "      fill: #174EA6;\n",
              "    }\n",
              "\n",
              "    .colab-df-buttons div {\n",
              "      margin-bottom: 4px;\n",
              "    }\n",
              "\n",
              "    [theme=dark] .colab-df-convert {\n",
              "      background-color: #3B4455;\n",
              "      fill: #D2E3FC;\n",
              "    }\n",
              "\n",
              "    [theme=dark] .colab-df-convert:hover {\n",
              "      background-color: #434B5C;\n",
              "      box-shadow: 0px 1px 3px 1px rgba(0, 0, 0, 0.15);\n",
              "      filter: drop-shadow(0px 1px 2px rgba(0, 0, 0, 0.3));\n",
              "      fill: #FFFFFF;\n",
              "    }\n",
              "  </style>\n",
              "\n",
              "    <script>\n",
              "      const buttonEl =\n",
              "        document.querySelector('#df-0a8e11f2-9e14-4d44-a0e3-c798b957d70a button.colab-df-convert');\n",
              "      buttonEl.style.display =\n",
              "        google.colab.kernel.accessAllowed ? 'block' : 'none';\n",
              "\n",
              "      async function convertToInteractive(key) {\n",
              "        const element = document.querySelector('#df-0a8e11f2-9e14-4d44-a0e3-c798b957d70a');\n",
              "        const dataTable =\n",
              "          await google.colab.kernel.invokeFunction('convertToInteractive',\n",
              "                                                    [key], {});\n",
              "        if (!dataTable) return;\n",
              "\n",
              "        const docLinkHtml = 'Like what you see? Visit the ' +\n",
              "          '<a target=\"_blank\" href=https://colab.research.google.com/notebooks/data_table.ipynb>data table notebook</a>'\n",
              "          + ' to learn more about interactive tables.';\n",
              "        element.innerHTML = '';\n",
              "        dataTable['output_type'] = 'display_data';\n",
              "        await google.colab.output.renderOutput(dataTable, element);\n",
              "        const docLink = document.createElement('div');\n",
              "        docLink.innerHTML = docLinkHtml;\n",
              "        element.appendChild(docLink);\n",
              "      }\n",
              "    </script>\n",
              "  </div>\n",
              "\n",
              "\n",
              "<div id=\"df-b83f804e-4c52-4b06-b7d7-7eda86e545aa\">\n",
              "  <button class=\"colab-df-quickchart\" onclick=\"quickchart('df-b83f804e-4c52-4b06-b7d7-7eda86e545aa')\"\n",
              "            title=\"Suggest charts\"\n",
              "            style=\"display:none;\">\n",
              "\n",
              "<svg xmlns=\"http://www.w3.org/2000/svg\" height=\"24px\"viewBox=\"0 0 24 24\"\n",
              "     width=\"24px\">\n",
              "    <g>\n",
              "        <path d=\"M19 3H5c-1.1 0-2 .9-2 2v14c0 1.1.9 2 2 2h14c1.1 0 2-.9 2-2V5c0-1.1-.9-2-2-2zM9 17H7v-7h2v7zm4 0h-2V7h2v10zm4 0h-2v-4h2v4z\"/>\n",
              "    </g>\n",
              "</svg>\n",
              "  </button>\n",
              "\n",
              "<style>\n",
              "  .colab-df-quickchart {\n",
              "      --bg-color: #E8F0FE;\n",
              "      --fill-color: #1967D2;\n",
              "      --hover-bg-color: #E2EBFA;\n",
              "      --hover-fill-color: #174EA6;\n",
              "      --disabled-fill-color: #AAA;\n",
              "      --disabled-bg-color: #DDD;\n",
              "  }\n",
              "\n",
              "  [theme=dark] .colab-df-quickchart {\n",
              "      --bg-color: #3B4455;\n",
              "      --fill-color: #D2E3FC;\n",
              "      --hover-bg-color: #434B5C;\n",
              "      --hover-fill-color: #FFFFFF;\n",
              "      --disabled-bg-color: #3B4455;\n",
              "      --disabled-fill-color: #666;\n",
              "  }\n",
              "\n",
              "  .colab-df-quickchart {\n",
              "    background-color: var(--bg-color);\n",
              "    border: none;\n",
              "    border-radius: 50%;\n",
              "    cursor: pointer;\n",
              "    display: none;\n",
              "    fill: var(--fill-color);\n",
              "    height: 32px;\n",
              "    padding: 0;\n",
              "    width: 32px;\n",
              "  }\n",
              "\n",
              "  .colab-df-quickchart:hover {\n",
              "    background-color: var(--hover-bg-color);\n",
              "    box-shadow: 0 1px 2px rgba(60, 64, 67, 0.3), 0 1px 3px 1px rgba(60, 64, 67, 0.15);\n",
              "    fill: var(--button-hover-fill-color);\n",
              "  }\n",
              "\n",
              "  .colab-df-quickchart-complete:disabled,\n",
              "  .colab-df-quickchart-complete:disabled:hover {\n",
              "    background-color: var(--disabled-bg-color);\n",
              "    fill: var(--disabled-fill-color);\n",
              "    box-shadow: none;\n",
              "  }\n",
              "\n",
              "  .colab-df-spinner {\n",
              "    border: 2px solid var(--fill-color);\n",
              "    border-color: transparent;\n",
              "    border-bottom-color: var(--fill-color);\n",
              "    animation:\n",
              "      spin 1s steps(1) infinite;\n",
              "  }\n",
              "\n",
              "  @keyframes spin {\n",
              "    0% {\n",
              "      border-color: transparent;\n",
              "      border-bottom-color: var(--fill-color);\n",
              "      border-left-color: var(--fill-color);\n",
              "    }\n",
              "    20% {\n",
              "      border-color: transparent;\n",
              "      border-left-color: var(--fill-color);\n",
              "      border-top-color: var(--fill-color);\n",
              "    }\n",
              "    30% {\n",
              "      border-color: transparent;\n",
              "      border-left-color: var(--fill-color);\n",
              "      border-top-color: var(--fill-color);\n",
              "      border-right-color: var(--fill-color);\n",
              "    }\n",
              "    40% {\n",
              "      border-color: transparent;\n",
              "      border-right-color: var(--fill-color);\n",
              "      border-top-color: var(--fill-color);\n",
              "    }\n",
              "    60% {\n",
              "      border-color: transparent;\n",
              "      border-right-color: var(--fill-color);\n",
              "    }\n",
              "    80% {\n",
              "      border-color: transparent;\n",
              "      border-right-color: var(--fill-color);\n",
              "      border-bottom-color: var(--fill-color);\n",
              "    }\n",
              "    90% {\n",
              "      border-color: transparent;\n",
              "      border-bottom-color: var(--fill-color);\n",
              "    }\n",
              "  }\n",
              "</style>\n",
              "\n",
              "  <script>\n",
              "    async function quickchart(key) {\n",
              "      const quickchartButtonEl =\n",
              "        document.querySelector('#' + key + ' button');\n",
              "      quickchartButtonEl.disabled = true;  // To prevent multiple clicks.\n",
              "      quickchartButtonEl.classList.add('colab-df-spinner');\n",
              "      try {\n",
              "        const charts = await google.colab.kernel.invokeFunction(\n",
              "            'suggestCharts', [key], {});\n",
              "      } catch (error) {\n",
              "        console.error('Error during call to suggestCharts:', error);\n",
              "      }\n",
              "      quickchartButtonEl.classList.remove('colab-df-spinner');\n",
              "      quickchartButtonEl.classList.add('colab-df-quickchart-complete');\n",
              "    }\n",
              "    (() => {\n",
              "      let quickchartButtonEl =\n",
              "        document.querySelector('#df-b83f804e-4c52-4b06-b7d7-7eda86e545aa button');\n",
              "      quickchartButtonEl.style.display =\n",
              "        google.colab.kernel.accessAllowed ? 'block' : 'none';\n",
              "    })();\n",
              "  </script>\n",
              "</div>\n",
              "\n",
              "    </div>\n",
              "  </div>\n"
            ],
            "application/vnd.google.colaboratory.intrinsic+json": {
              "type": "dataframe",
              "variable_name": "df",
              "summary": "{\n  \"name\": \"df\",\n  \"rows\": 200,\n  \"fields\": [\n    {\n      \"column\": \"Well\",\n      \"properties\": {\n        \"dtype\": \"number\",\n        \"std\": 57,\n        \"min\": 1,\n        \"max\": 200,\n        \"num_unique_values\": 200,\n        \"samples\": [\n          96,\n          16,\n          31\n        ],\n        \"semantic_type\": \"\",\n        \"description\": \"\"\n      }\n    },\n    {\n      \"column\": \"Por\",\n      \"properties\": {\n        \"dtype\": \"number\",\n        \"std\": 2.971176471640172,\n        \"min\": 6.55,\n        \"max\": 23.55,\n        \"num_unique_values\": 188,\n        \"samples\": [\n          11.95,\n          12.94,\n          14.73\n        ],\n        \"semantic_type\": \"\",\n        \"description\": \"\"\n      }\n    },\n    {\n      \"column\": \"Perm\",\n      \"properties\": {\n        \"dtype\": \"number\",\n        \"std\": 1.7310141499817924,\n        \"min\": 1.13,\n        \"max\": 9.87,\n        \"num_unique_values\": 110,\n        \"samples\": [\n          2.48,\n          4.39,\n          4.57\n        ],\n        \"semantic_type\": \"\",\n        \"description\": \"\"\n      }\n    },\n    {\n      \"column\": \"AI\",\n      \"properties\": {\n        \"dtype\": \"number\",\n        \"std\": 0.5668853255834102,\n        \"min\": 1.28,\n        \"max\": 4.63,\n        \"num_unique_values\": 128,\n        \"samples\": [\n          2.25,\n          2.56,\n          2.38\n        ],\n        \"semantic_type\": \"\",\n        \"description\": \"\"\n      }\n    },\n    {\n      \"column\": \"Brittle\",\n      \"properties\": {\n        \"dtype\": \"number\",\n        \"std\": 14.129454914411664,\n        \"min\": 10.94,\n        \"max\": 84.33,\n        \"num_unique_values\": 195,\n        \"samples\": [\n          56.29,\n          35.49,\n          56.09\n        ],\n        \"semantic_type\": \"\",\n        \"description\": \"\"\n      }\n    },\n    {\n      \"column\": \"TOC\",\n      \"properties\": {\n        \"dtype\": \"number\",\n        \"std\": 0.48158792775650433,\n        \"min\": -0.19,\n        \"max\": 2.18,\n        \"num_unique_values\": 120,\n        \"samples\": [\n          1.24,\n          1.97,\n          0.94\n        ],\n        \"semantic_type\": \"\",\n        \"description\": \"\"\n      }\n    },\n    {\n      \"column\": \"VR\",\n      \"properties\": {\n        \"dtype\": \"number\",\n        \"std\": 0.3008271845676094,\n        \"min\": 0.93,\n        \"max\": 2.87,\n        \"num_unique_values\": 95,\n        \"samples\": [\n          2.42,\n          2.04,\n          2.08\n        ],\n        \"semantic_type\": \"\",\n        \"description\": \"\"\n      }\n    },\n    {\n      \"column\": \"Prod\",\n      \"properties\": {\n        \"dtype\": \"number\",\n        \"std\": 992.0384140187238,\n        \"min\": 2107.139414,\n        \"max\": 6662.622385,\n        \"num_unique_values\": 200,\n        \"samples\": [\n          5350.949293,\n          3539.984263,\n          5859.748328\n        ],\n        \"semantic_type\": \"\",\n        \"description\": \"\"\n      }\n    }\n  ]\n}"
            }
          },
          "metadata": {},
          "execution_count": 3
        }
      ],
      "source": [
        "df = pd.read_csv('unconv.csv')\n",
        "df.head()"
      ]
    },
    {
      "cell_type": "markdown",
      "id": "58639b40",
      "metadata": {
        "id": "58639b40"
      },
      "source": [
        "## Практика: линейная регрессия по методу наименьших квадратов"
      ]
    },
    {
      "cell_type": "markdown",
      "id": "a90535b8",
      "metadata": {
        "id": "a90535b8"
      },
      "source": [
        "Для начала построим простейшую модель линейной регрессии, проанализируем результаты её работы и выберем наиболее значимые факторы для прогнозирования.\n",
        "\n",
        "В первой части вам предстоит выполнить задания 5.0–5.6. Максимальное количество баллов, которое можно получить, — 9."
      ]
    },
    {
      "cell_type": "markdown",
      "id": "4061b706",
      "metadata": {
        "id": "4061b706"
      },
      "source": [
        "### Задание 5.0. (не оценивается)\n",
        "\n",
        "Проведите небольшой разведывательный анализ, чтобы поближе познакомиться с исходными данными. Постройте несколько визуализаций, которые помогут вам понять, как устроены исходные признаки, а также смогут продемонстрировать взаимосвязь факторов.\n",
        "\n",
        "Сделайте промежуточные выводы из проведённого разведывательного анализа."
      ]
    },
    {
      "cell_type": "code",
      "execution_count": 4,
      "id": "daf1ccc7",
      "metadata": {
        "id": "daf1ccc7",
        "colab": {
          "base_uri": "https://localhost:8080/"
        },
        "outputId": "74e45f70-b3c6-4141-eb11-59b06d438f62"
      },
      "outputs": [
        {
          "output_type": "stream",
          "name": "stdout",
          "text": [
            "<class 'pandas.core.frame.DataFrame'>\n",
            "RangeIndex: 200 entries, 0 to 199\n",
            "Data columns (total 8 columns):\n",
            " #   Column   Non-Null Count  Dtype  \n",
            "---  ------   --------------  -----  \n",
            " 0   Well     200 non-null    int64  \n",
            " 1   Por      200 non-null    float64\n",
            " 2   Perm     200 non-null    float64\n",
            " 3   AI       200 non-null    float64\n",
            " 4   Brittle  200 non-null    float64\n",
            " 5   TOC      200 non-null    float64\n",
            " 6   VR       200 non-null    float64\n",
            " 7   Prod     200 non-null    float64\n",
            "dtypes: float64(7), int64(1)\n",
            "memory usage: 12.6 KB\n",
            "None\n",
            "             Well         Por        Perm          AI     Brittle         TOC  \\\n",
            "count  200.000000  200.000000  200.000000  200.000000  200.000000  200.000000   \n",
            "mean   100.500000   14.991150    4.330750    2.968850   48.161950    0.990450   \n",
            "std     57.879185    2.971176    1.731014    0.566885   14.129455    0.481588   \n",
            "min      1.000000    6.550000    1.130000    1.280000   10.940000   -0.190000   \n",
            "25%     50.750000   12.912500    3.122500    2.547500   37.755000    0.617500   \n",
            "50%    100.500000   15.070000    4.035000    2.955000   49.510000    1.030000   \n",
            "75%    150.250000   17.402500    5.287500    3.345000   58.262500    1.350000   \n",
            "max    200.000000   23.550000    9.870000    4.630000   84.330000    2.180000   \n",
            "\n",
            "               VR         Prod  \n",
            "count  200.000000   200.000000  \n",
            "mean     1.964300  4311.219852  \n",
            "std      0.300827   992.038414  \n",
            "min      0.930000  2107.139414  \n",
            "25%      1.770000  3618.064513  \n",
            "50%      1.960000  4284.687348  \n",
            "75%      2.142500  5086.089761  \n",
            "max      2.870000  6662.622385  \n",
            "Well       0\n",
            "Por        0\n",
            "Perm       0\n",
            "AI         0\n",
            "Brittle    0\n",
            "TOC        0\n",
            "VR         0\n",
            "Prod       0\n",
            "dtype: int64\n"
          ]
        }
      ],
      "source": [
        "# Ваш код здесь\n",
        "print(df.info())  # Проверим типы данных\n",
        "print(df.describe())  # Выведем основные статистики\n",
        "print(df.isnull().sum())  # Подсчёт пропусков\n"
      ]
    },
    {
      "cell_type": "code",
      "source": [
        "#Визуализируем зависимость Prod от других признаков:\n",
        "sns.pairplot(df, x_vars=['Por', 'Perm', 'AI', 'Brittle', 'TOC', 'VR'], y_vars='Prod', kind='reg')\n",
        "plt.show()\n"
      ],
      "metadata": {
        "colab": {
          "base_uri": "https://localhost:8080/",
          "height": 236
        },
        "id": "K4xco2fYUky7",
        "outputId": "a392cc21-f54e-450c-8e9e-d1c90761a858"
      },
      "id": "K4xco2fYUky7",
      "execution_count": 5,
      "outputs": [
        {
          "output_type": "display_data",
          "data": {
            "text/plain": [
              "<Figure size 1500x250 with 6 Axes>"
            ],
            "image/png": "[encoded data removed]"
          },
          "metadata": {}
        }
      ]
    },
    {
      "cell_type": "code",
      "source": [
        "#Построим корреляционную матрицу:\n",
        "plt.figure(figsize=(10, 6))\n",
        "sns.heatmap(df.corr(), annot=True, cmap='coolwarm', fmt=\".2f\")\n",
        "plt.title(\"Корреляционная матрица\")\n",
        "plt.show()\n"
      ],
      "metadata": {
        "colab": {
          "base_uri": "https://localhost:8080/",
          "height": 545
        },
        "id": "QJco_t2sU_3f",
        "outputId": "91eb3c8b-f11a-4bc4-8929-f0c4313b5382"
      },
      "id": "QJco_t2sU_3f",
      "execution_count": 6,
      "outputs": [
        {
          "output_type": "display_data",
          "data": {
            "text/plain": [
              "<Figure size 1000x600 with 2 Axes>"
            ],
            "image/png": "[encoded data removed]"
          },
          "metadata": {}
        }
      ]
    },
    {
      "cell_type": "markdown",
      "id": "d11cb44f",
      "metadata": {
        "id": "d11cb44f"
      },
      "source": [
        "### Задание 5.1. (2 балла)\n",
        "\n",
        "Постройте корреляционную матрицу факторов, включив в неё целевой признак.\n",
        "\n",
        "Для наглядности визуализируйте полученную матрицу с помощью тепловой карты.\n",
        "\n",
        "**Примечание.** *Для визуализации вы можете использовать любую из знакомых вам библиотек.*\n",
        "\n",
        "На основе построенной корреляционной матрицы ответьте на следующий вопрос:\n",
        "\n",
        "* Какие факторы сильнее всего коррелируют с целевой переменной?\n",
        "\n",
        "Вычислите ранг и определитель полученной матрицы корреляций и приведите развёрнутые ответы на следующие вопросы:\n",
        "* Является ли корреляционная матрица плохо обусловенной (близок ли её опредитель к нулю)?\n",
        "* Что вы можете сказать о наличии коллинераности/мультиколлинеарности в данных?\n",
        "* Применима ли в данном случае модель классической линейной регрессии по методу наименьших квадратов и почему?"
      ]
    },
    {
      "cell_type": "markdown",
      "source": [
        "**Критерии оценивания:**\n",
        "- Задание выполнено верно, учтены все условия (**2 балла**):\n",
        "    * приведён код для расчёта корреляционной матрицы;\n",
        "    * приведён код для визуализации корреляционной матрицы в виде тепловой карты;\n",
        "    * рассчитаны ранг и определитель корреляционной матрицы;\n",
        "    * предоставлены обоснованные ответы на все поставленные вопросы.\n",
        "\n",
        "- Задание выполнено верно, но не учтено одно условие (**1 балл**).\n",
        "- Задание выполнено неверно, не учтено несколько условий (**0 баллов**)."
      ],
      "metadata": {
        "id": "57OjUl5e2oiL"
      },
      "id": "57OjUl5e2oiL"
    },
    {
      "cell_type": "code",
      "execution_count": 7,
      "id": "af00a5a0",
      "metadata": {
        "id": "af00a5a0",
        "colab": {
          "base_uri": "https://localhost:8080/"
        },
        "outputId": "01d86342-b163-4391-8612-c49e33ab6764"
      },
      "outputs": [
        {
          "output_type": "stream",
          "name": "stdout",
          "text": [
            "             Well       Por      Perm        AI   Brittle       TOC        VR  \\\n",
            "Well     1.000000  0.068927  0.077928  0.041483 -0.079252  0.022624 -0.007279   \n",
            "Por      0.068927  1.000000  0.760546 -0.461549 -0.218570  0.711831  0.111860   \n",
            "Perm     0.077928  0.760546  1.000000 -0.239636 -0.124017  0.471746  0.051023   \n",
            "AI       0.041483 -0.461549 -0.239636  1.000000  0.127599 -0.531864  0.499143   \n",
            "Brittle -0.079252 -0.218570 -0.124017  0.127599  1.000000 -0.214282  0.317929   \n",
            "TOC      0.022624  0.711831  0.471746 -0.531864 -0.214282  1.000000  0.299483   \n",
            "VR      -0.007279  0.111860  0.051023  0.499143  0.317929  0.299483  1.000000   \n",
            "Prod     0.026817  0.861910  0.727426 -0.390835  0.237155  0.654445  0.323182   \n",
            "\n",
            "             Prod  \n",
            "Well     0.026817  \n",
            "Por      0.861910  \n",
            "Perm     0.727426  \n",
            "AI      -0.390835  \n",
            "Brittle  0.237155  \n",
            "TOC      0.654445  \n",
            "VR       0.323182  \n",
            "Prod     1.000000  \n"
          ]
        }
      ],
      "source": [
        "# Ваш код здесь\n",
        "# Сначала вычислим корреляционную матрицу, включая целевой признак Prod\n",
        "import numpy as np\n",
        "import pandas as pd\n",
        "\n",
        "# входные данные\n",
        "#df = pd.read_csv('unconv.csv')\n",
        "\n",
        "# Выбираем только числовые признаки (# можно потом исключить идентификатор скважины)\n",
        "#df_numeric = df.drop(columns=[\"Well\"])\n",
        "df_numeric = df\n",
        "\n",
        "# Строим корреляционную матрицу\n",
        "correlation_matrix = df_numeric.corr()\n",
        "\n",
        "# Выводим матрицу корреляций\n",
        "print(correlation_matrix)\n"
      ]
    },
    {
      "cell_type": "markdown",
      "id": "9a56013d",
      "metadata": {
        "id": "9a56013d"
      },
      "source": [
        "*Ваши выводы здесь*\n",
        "- Наибольшее влияние на добычу газа оказывает пористость (Por), так как её корреляция с Prod составляет 0.86 — очень высокая.\n",
        "\n",
        "- Проницаемость (Perm) и содержание органического углерода (TOC) также влияют на добычу, но чуть слабее.\n",
        "\n",
        "- Акустический импеданс (AI) показывает отрицательную корреляцию с добычей.\n",
        "\n",
        "- Остальные признаки (например, коэффициент хрупкости Brittle и коэффициент отражения витринита VR) имеют либо слабое, либо очень слабое влияние на добычу."
      ]
    },
    {
      "cell_type": "markdown",
      "id": "43fd91c4",
      "metadata": {
        "id": "43fd91c4"
      },
      "source": [
        "### Задание 5.2. (2 балла)\n",
        "\n",
        "Создайте матрицу наблюдений `X` и вектор правильных ответов `y`. В качестве факторов для матрицы наблюдений возьмите все имеющиеся в данных признаки.\n",
        "\n",
        "Постройте модель линейной регрессии по методу наименьших квадратов. Для этого воспользуйтесь матричной формулой МНК и инструментарием библиотеки numpy.\n",
        "\n",
        "Выведите на экран полученные оценки коэффициентов модели, округлённые до целого.\n",
        "\n",
        "Приведите подробные выводы по полученным результатам, ответив на следующие вопросы:\n",
        "* Есть ли в ваших данных признаки, которые, согласно модели, можно назвать неинформативными, то есть они не оказывают влияния на целевую переменную или оказывают шумовое влияние?\n",
        "* Приведите интерпретацию нескольких (двух или трёх) коэффициентов полученной модели линейной регрессии.\n"
      ]
    },
    {
      "cell_type": "markdown",
      "source": [
        "**Критерии оценивания:**\n",
        "- Задание выполнено верно, учтены все условия (**2 балла**):\n",
        "    * приведён код для нахождения параметров модели линейной регрессии с помощью матричной формулы МНК;\n",
        "    * на основе полученных параметров даны верные ответы на поставленные вопросы;\n",
        "    * приведена корректная интерпретация нескольких коэффициентов полученной модели линейной регрессии.\n",
        "\n",
        "- Задание выполнено верно, но не учтено одно из условий (**1 балл**).\n",
        "- Задание выполнено неверно, не учтено несколько условий (**0 баллов**)."
      ],
      "metadata": {
        "id": "QtNtTUzI4Cpq"
      },
      "id": "QtNtTUzI4Cpq"
    },
    {
      "cell_type": "markdown",
      "source": [
        "## Построим модель линейной регрессии вручную через метод наименьших квадратов."
      ],
      "metadata": {
        "id": "I0Fen2EdZrxj"
      },
      "id": "I0Fen2EdZrxj"
    },
    {
      "cell_type": "code",
      "execution_count": 8,
      "id": "5724288c",
      "metadata": {
        "id": "5724288c",
        "colab": {
          "base_uri": "https://localhost:8080/"
        },
        "outputId": "622e002a-ee73-4f5e-f844-3c897793fa98"
      },
      "outputs": [
        {
          "output_type": "stream",
          "name": "stdout",
          "text": [
            "Коэффициенты модели:\n",
            "[[-1.23230803e+03]\n",
            " [ 5.07003631e-02]\n",
            " [ 2.30179140e+02]\n",
            " [ 1.16239006e+02]\n",
            " [-3.65202301e+02]\n",
            " [ 2.49943700e+01]\n",
            " [-7.84009294e+01]\n",
            " [ 7.85259815e+02]]\n"
          ]
        }
      ],
      "source": [
        "# Ваш код здесь\n",
        "\n",
        "# Подготовим матрицу факторов X и целевой признак Y.\n",
        "# Определяем целевой признак\n",
        "Y = df[\"Prod\"].values.reshape(-1, 1)\n",
        "\n",
        "# Выбираем факторы (без целевой переменной)\n",
        "X = df.drop(columns=[\"Prod\"]).values\n",
        "\n",
        "# Добавляем единичный столбец для свободного члена (Intercept)\n",
        "X = np.hstack([np.ones((X.shape[0], 1)), X])\n",
        "\n",
        "# Вычисляем коэффициенты по методу наименьших квадратов\n",
        "beta = np.linalg.inv(X.T @ X) @ X.T @ Y   # в этом фрагменте наша модель обучаеться\n",
        "\n",
        "print(\"Коэффициенты модели:\")\n",
        "print(beta)\n"
      ]
    },
    {
      "cell_type": "markdown",
      "id": "bab9ee21",
      "metadata": {
        "id": "bab9ee21"
      },
      "source": [
        "> *Ваши выводы здесь*\n",
        "- Теперь у нас есть значения β, которые можно использовать для предсказаний.\n",
        "- Полученные коэффициенты модели — это параметры, которые были найдены в ходе обучения линейной регрессии. Эти коэффициенты показывают, какое влияние каждый из признаков оказывает на целевую переменную (в данном случае, на выработку газа Prod).\n",
        "- Эти коэффициенты можно использовать для построения предсказаний добычи газа для новых данных скважин, подставляя значения признаков в уравнение модели."
      ]
    },
    {
      "cell_type": "markdown",
      "id": "4a05a4ac",
      "metadata": {
        "id": "4a05a4ac"
      },
      "source": [
        "### Задание 5.3. (1 балл)\n",
        "\n",
        "Теперь потренируемся строить предсказание для наблюдений целевой переменной.\n",
        "\n",
        "**а)** Постройте прогноз выработки газа для скважины со следующими параметрами:\n",
        "\n",
        "```python\n",
        "{\n",
        "    'Well': 106.0,\n",
        "    'Por': 15.32,\n",
        "    'Perm': 3.71,\n",
        "    'AI': 3.29,\n",
        "    'Brittle': 55.99,\n",
        "    'TOC': 1.35,\n",
        "    'VR': 2.42\n",
        " }\n",
        "```\n",
        "\n",
        "Рассчитайте абсолютную ошибку построенного вами прогноза для предложенной скважины (в миллионах кубических футов в день), если известно, что на этой скважине производится `4748.315024` миллионов кубических футов газа в день.\n",
        "\n",
        "**б)** Постройте прогноз выработки газа для всех скважин из обучающего набора данных. Выберите метрику, по которой вы будете оценивать качество регрессионных моделей и сравнивать их между собой (можно использовать несколько метрик, но не более двух).\n",
        "\n",
        "Рассчитайте значение выбранной метрики для вашей модели. Приведите интерпретацию полученного результата."
      ]
    },
    {
      "cell_type": "markdown",
      "source": [
        "**Критерии оценивания:**\n",
        "- Задание выполнено верно, учтены все условия (**1 балл**):\n",
        "    * приведён код для построения прогноза выработки газа на указанной скважине и рассчитана абсолютная ошибка прогноза для этой скважины;\n",
        "    * выбрана корректная для поставленной задачи метрика (или метрики) оценки качества модели и приведён код для расчёта этой метрики на всём обучающем наборе данных;\n",
        "    * приведена корректная интерпретация полученного результата.\n",
        "\n",
        "- Задание выполнено верно, но не учтено одно из условий, или задание выполнено неверно (**0 баллов**)."
      ],
      "metadata": {
        "id": "qUDcep5Q5GWU"
      },
      "id": "qUDcep5Q5GWU"
    },
    {
      "cell_type": "code",
      "execution_count": 9,
      "id": "e4291db0",
      "metadata": {
        "id": "e4291db0",
        "colab": {
          "base_uri": "https://localhost:8080/"
        },
        "outputId": "11a5856f-2d40-4afe-eebb-56c84af019a0"
      },
      "outputs": [
        {
          "output_type": "stream",
          "name": "stdout",
          "text": [
            "Прогнозируемая выработка газа для скважины: 4723.064053707485\n",
            "Абсолютная ошибка: [25.25097029]\n"
          ]
        }
      ],
      "source": [
        "# Ваш код здесь\n",
        "# Данные для скважины\n",
        "well_data = np.array([[1, 106.0, 15.32, 3.71, 3.29, 55.99, 1.35, 2.42]])  # Добавляем единичный столбец для intercept\n",
        "\n",
        "# Прогнозируем для данной скважины\n",
        "predicted_prod = well_data @ beta\n",
        "\n",
        "# Истинное значение (дано в задаче)\n",
        "true_prod = 4748.315024\n",
        "\n",
        "# Абсолютная ошибка\n",
        "abs_error = abs(true_prod - predicted_prod)\n",
        "print(f\"Прогнозируемая выработка газа для скважины: {predicted_prod[0][0]}\")\n",
        "print(f\"Абсолютная ошибка: {abs_error[0]}\")\n",
        "\n"
      ]
    },
    {
      "cell_type": "code",
      "source": [
        "# Далее сделаем прогноз для всех данных из обучающего набора,\n",
        "# используя полученные коэффициенты, и рассчитаем метрики MAE и RMSE.\n",
        "from sklearn.metrics import mean_absolute_error, mean_squared_error\n",
        "import math\n",
        "\n",
        "# Прогнозируем для всех скважин\n",
        "Y_pred_all = X @ beta\n",
        "\n",
        "# Вычисляем метрики\n",
        "mae = mean_absolute_error(Y, Y_pred_all)\n",
        "rmse = math.sqrt(mean_squared_error(Y, Y_pred_all))\n",
        "\n",
        "print(f\"MAE: {mae}\")\n",
        "print(f\"RMSE: {rmse}\")\n"
      ],
      "metadata": {
        "colab": {
          "base_uri": "https://localhost:8080/"
        },
        "id": "FAtF5JmhdXkP",
        "outputId": "4989d636-fb03-4704-c4f4-99caf98a2059"
      },
      "id": "FAtF5JmhdXkP",
      "execution_count": 10,
      "outputs": [
        {
          "output_type": "stream",
          "name": "stdout",
          "text": [
            "MAE: 153.62297086555168\n",
            "RMSE: 198.28020612321944\n"
          ]
        }
      ]
    },
    {
      "cell_type": "markdown",
      "id": "c9bee4bc",
      "metadata": {
        "id": "c9bee4bc"
      },
      "source": [
        "> *Ваши выводы здесь*\n",
        "- Прогноз: Выработка газа на скважине, предсказанная моделью, составляет 4723.06 млн куб. футов, что близко к истинному значению (4748.32 млн куб. футов).\n",
        "\n",
        "- Абсолютная ошибка: Ошибка в предсказании составляет 25.25 млн куб. футов в день, что означает, что модель отклонилась от реального значения на 25.25 миллионов кубических футов.\n",
        "\n",
        "- MAE в 153.62 млн куб. футов в день говорит о том, что в среднем модель достаточно точно предсказывает выработку газа, но все равно имеется ошибка порядка 153.62 млн куб. футов для каждой скважины.\n",
        "\n",
        "- RMSE в 198.28 млн куб. футов в день говорит о том, что ошибки, особенно крупные, оказывают значительное влияние на качество модели.\n",
        "\n",
        "*Если сравнивать эти метрики с теми, что мы получили для конкретной скважины, то видим, что модель может работать лучше на некоторых скважинах, чем в целом по всем данным.*"
      ]
    },
    {
      "cell_type": "markdown",
      "id": "0c25c3aa",
      "metadata": {
        "id": "0c25c3aa"
      },
      "source": [
        "### Задание 5.4. (1 балл)\n",
        "\n",
        "Настало время анализа построенной модели. Посмотрите на коэффициенты и сравните их знаки со значениями выборочных корреляций между целевым признаком и факторами, которые вы нашли ранее.\n",
        "\n",
        "Дайте развёрнутые ответы на следующие вопросы:\n",
        "\n",
        "* Есть ли в вашей модели фактор, при котором коэффициент в модели линейной регрессии противоречит соответствующему коэффициенту корреляции? Например, корреляция говорит, что зависимость между фактором и целевой переменной прямая, а модель говорит обратное. Если таких факторов несколько, укажите их все.\n",
        "* Как вы считаете, с чем связано полученное противоречие результатов?"
      ]
    },
    {
      "cell_type": "markdown",
      "source": [
        "**Критерии оценивания:**\n",
        "\n",
        "- Задание выполнено верно, даны корректные развёрнутые ответы на все поставленные в задании вопросы (**1 балл**).\n",
        "\n",
        "- Задание выполнено неверно, даны некорректные ответы на один или несколько поставленных в задании вопросов (**0 баллов**)."
      ],
      "metadata": {
        "id": "ngJ3UdYb6Ll6"
      },
      "id": "ngJ3UdYb6Ll6"
    },
    {
      "cell_type": "markdown",
      "source": [
        "## Сравнение коэффициентов модели и корреляций"
      ],
      "metadata": {
        "id": "OEudsivYnwQO"
      },
      "id": "OEudsivYnwQO"
    },
    {
      "cell_type": "markdown",
      "source": [],
      "metadata": {
        "id": "32-9qIKentvu"
      },
      "id": "32-9qIKentvu"
    },
    {
      "cell_type": "code",
      "source": [
        "# Ваш код здесь\n",
        "# Наши коэффициенты модели линейной регрессии (по методу наименьших квадратов) следующие:\n",
        "coefficients = [\n",
        "    [-1230.26203694],   # Свободный член\n",
        "    [230.29581021],     # Por\n",
        "    [116.2280334],      # Perm\n",
        "    [-363.73608557],    # AI\n",
        "    [24.9966698],       # Brittle\n",
        "    [-77.43674242],     # TOC\n",
        "    [783.18741348]      # VR\n",
        "]\n",
        "\n",
        "# Вывод коэффициентов модели\n",
        "for idx, coeff in enumerate(coefficients):\n",
        "    print(f\"Коэффициент для фактора {['Свободный член', 'Por', 'Perm', 'AI', 'Brittle', 'TOC', 'VR'][idx]}: {coeff[0]:.2f}\")\n",
        "\n"
      ],
      "metadata": {
        "id": "v-zIxRPY9wK7",
        "colab": {
          "base_uri": "https://localhost:8080/"
        },
        "outputId": "7408a62c-1559-48eb-c4a0-3371cf0a87a8"
      },
      "id": "v-zIxRPY9wK7",
      "execution_count": 14,
      "outputs": [
        {
          "output_type": "stream",
          "name": "stdout",
          "text": [
            "Коэффициент для фактора Свободный член: -1230.26\n",
            "Коэффициент для фактора Por: 230.30\n",
            "Коэффициент для фактора Perm: 116.23\n",
            "Коэффициент для фактора AI: -363.74\n",
            "Коэффициент для фактора Brittle: 25.00\n",
            "Коэффициент для фактора TOC: -77.44\n",
            "Коэффициент для фактора VR: 783.19\n"
          ]
        }
      ]
    },
    {
      "cell_type": "code",
      "source": [
        "# Корреляционные коэффициенты между факторами и целевой переменной (Prod) были следующими:\n",
        "import pandas as pd\n",
        "\n",
        "# Создание данных для таблицы\n",
        "data = {\n",
        "    \"Фактор\": [\"Por\", \"Perm\", \"AI\", \"Brittle\", \"TOC\", \"VR\"],\n",
        "    \"Корреляция с Prod\": [0.861910, 0.727426, -0.390835, 0.237155, 0.654445, 0.323182]\n",
        "}\n",
        "\n",
        "# Создание DataFrame\n",
        "correlation_table = pd.DataFrame(data)\n",
        "\n",
        "# Вывод таблицы\n",
        "#print(correlation_table)\n",
        "\n",
        "from IPython.display import display\n",
        "\n",
        "# Отображение таблицы\n",
        "display(correlation_table)\n"
      ],
      "metadata": {
        "colab": {
          "base_uri": "https://localhost:8080/",
          "height": 237
        },
        "id": "gTAnG_LPjefP",
        "outputId": "bd9492d0-4b73-489e-a4a5-3ad24ef520a4"
      },
      "id": "gTAnG_LPjefP",
      "execution_count": 15,
      "outputs": [
        {
          "output_type": "display_data",
          "data": {
            "text/plain": [
              "    Фактор  Корреляция с Prod\n",
              "0      Por           0.861910\n",
              "1     Perm           0.727426\n",
              "2       AI          -0.390835\n",
              "3  Brittle           0.237155\n",
              "4      TOC           0.654445\n",
              "5       VR           0.323182"
            ],
            "text/html": [
              "\n",
              "  <div id=\"df-a8fa0f82-df42-438c-9fe3-5df596bd6e95\" class=\"colab-df-container\">\n",
              "    <div>\n",
              "<style scoped>\n",
              "    .dataframe tbody tr th:only-of-type {\n",
              "        vertical-align: middle;\n",
              "    }\n",
              "\n",
              "    .dataframe tbody tr th {\n",
              "        vertical-align: top;\n",
              "    }\n",
              "\n",
              "    .dataframe thead th {\n",
              "        text-align: right;\n",
              "    }\n",
              "</style>\n",
              "<table border=\"1\" class=\"dataframe\">\n",
              "  <thead>\n",
              "    <tr style=\"text-align: right;\">\n",
              "      <th></th>\n",
              "      <th>Фактор</th>\n",
              "      <th>Корреляция с Prod</th>\n",
              "    </tr>\n",
              "  </thead>\n",
              "  <tbody>\n",
              "    <tr>\n",
              "      <th>0</th>\n",
              "      <td>Por</td>\n",
              "      <td>0.861910</td>\n",
              "    </tr>\n",
              "    <tr>\n",
              "      <th>1</th>\n",
              "      <td>Perm</td>\n",
              "      <td>0.727426</td>\n",
              "    </tr>\n",
              "    <tr>\n",
              "      <th>2</th>\n",
              "      <td>AI</td>\n",
              "      <td>-0.390835</td>\n",
              "    </tr>\n",
              "    <tr>\n",
              "      <th>3</th>\n",
              "      <td>Brittle</td>\n",
              "      <td>0.237155</td>\n",
              "    </tr>\n",
              "    <tr>\n",
              "      <th>4</th>\n",
              "      <td>TOC</td>\n",
              "      <td>0.654445</td>\n",
              "    </tr>\n",
              "    <tr>\n",
              "      <th>5</th>\n",
              "      <td>VR</td>\n",
              "      <td>0.323182</td>\n",
              "    </tr>\n",
              "  </tbody>\n",
              "</table>\n",
              "</div>\n",
              "    <div class=\"colab-df-buttons\">\n",
              "\n",
              "  <div class=\"colab-df-container\">\n",
              "    <button class=\"colab-df-convert\" onclick=\"convertToInteractive('df-a8fa0f82-df42-438c-9fe3-5df596bd6e95')\"\n",
              "            title=\"Convert this dataframe to an interactive table.\"\n",
              "            style=\"display:none;\">\n",
              "\n",
              "  <svg xmlns=\"http://www.w3.org/2000/svg\" height=\"24px\" viewBox=\"0 -960 960 960\">\n",
              "    <path d=\"M120-120v-720h720v720H120Zm60-500h600v-160H180v160Zm220 220h160v-160H400v160Zm0 220h160v-160H400v160ZM180-400h160v-160H180v160Zm440 0h160v-160H620v160ZM180-180h160v-160H180v160Zm440 0h160v-160H620v160Z\"/>\n",
              "  </svg>\n",
              "    </button>\n",
              "\n",
              "  <style>\n",
              "    .colab-df-container {\n",
              "      display:flex;\n",
              "      gap: 12px;\n",
              "    }\n",
              "\n",
              "    .colab-df-convert {\n",
              "      background-color: #E8F0FE;\n",
              "      border: none;\n",
              "      border-radius: 50%;\n",
              "      cursor: pointer;\n",
              "      display: none;\n",
              "      fill: #1967D2;\n",
              "      height: 32px;\n",
              "      padding: 0 0 0 0;\n",
              "      width: 32px;\n",
              "    }\n",
              "\n",
              "    .colab-df-convert:hover {\n",
              "      background-color: #E2EBFA;\n",
              "      box-shadow: 0px 1px 2px rgba(60, 64, 67, 0.3), 0px 1px 3px 1px rgba(60, 64, 67, 0.15);\n",
              "      fill: #174EA6;\n",
              "    }\n",
              "\n",
              "    .colab-df-buttons div {\n",
              "      margin-bottom: 4px;\n",
              "    }\n",
              "\n",
              "    [theme=dark] .colab-df-convert {\n",
              "      background-color: #3B4455;\n",
              "      fill: #D2E3FC;\n",
              "    }\n",
              "\n",
              "    [theme=dark] .colab-df-convert:hover {\n",
              "      background-color: #434B5C;\n",
              "      box-shadow: 0px 1px 3px 1px rgba(0, 0, 0, 0.15);\n",
              "      filter: drop-shadow(0px 1px 2px rgba(0, 0, 0, 0.3));\n",
              "      fill: #FFFFFF;\n",
              "    }\n",
              "  </style>\n",
              "\n",
              "    <script>\n",
              "      const buttonEl =\n",
              "        document.querySelector('#df-a8fa0f82-df42-438c-9fe3-5df596bd6e95 button.colab-df-convert');\n",
              "      buttonEl.style.display =\n",
              "        google.colab.kernel.accessAllowed ? 'block' : 'none';\n",
              "\n",
              "      async function convertToInteractive(key) {\n",
              "        const element = document.querySelector('#df-a8fa0f82-df42-438c-9fe3-5df596bd6e95');\n",
              "        const dataTable =\n",
              "          await google.colab.kernel.invokeFunction('convertToInteractive',\n",
              "                                                    [key], {});\n",
              "        if (!dataTable) return;\n",
              "\n",
              "        const docLinkHtml = 'Like what you see? Visit the ' +\n",
              "          '<a target=\"_blank\" href=https://colab.research.google.com/notebooks/data_table.ipynb>data table notebook</a>'\n",
              "          + ' to learn more about interactive tables.';\n",
              "        element.innerHTML = '';\n",
              "        dataTable['output_type'] = 'display_data';\n",
              "        await google.colab.output.renderOutput(dataTable, element);\n",
              "        const docLink = document.createElement('div');\n",
              "        docLink.innerHTML = docLinkHtml;\n",
              "        element.appendChild(docLink);\n",
              "      }\n",
              "    </script>\n",
              "  </div>\n",
              "\n",
              "\n",
              "<div id=\"df-b2bd7ecf-46ee-4b3b-ae5b-c0a54fd4f86c\">\n",
              "  <button class=\"colab-df-quickchart\" onclick=\"quickchart('df-b2bd7ecf-46ee-4b3b-ae5b-c0a54fd4f86c')\"\n",
              "            title=\"Suggest charts\"\n",
              "            style=\"display:none;\">\n",
              "\n",
              "<svg xmlns=\"http://www.w3.org/2000/svg\" height=\"24px\"viewBox=\"0 0 24 24\"\n",
              "     width=\"24px\">\n",
              "    <g>\n",
              "        <path d=\"M19 3H5c-1.1 0-2 .9-2 2v14c0 1.1.9 2 2 2h14c1.1 0 2-.9 2-2V5c0-1.1-.9-2-2-2zM9 17H7v-7h2v7zm4 0h-2V7h2v10zm4 0h-2v-4h2v4z\"/>\n",
              "    </g>\n",
              "</svg>\n",
              "  </button>\n",
              "\n",
              "<style>\n",
              "  .colab-df-quickchart {\n",
              "      --bg-color: #E8F0FE;\n",
              "      --fill-color: #1967D2;\n",
              "      --hover-bg-color: #E2EBFA;\n",
              "      --hover-fill-color: #174EA6;\n",
              "      --disabled-fill-color: #AAA;\n",
              "      --disabled-bg-color: #DDD;\n",
              "  }\n",
              "\n",
              "  [theme=dark] .colab-df-quickchart {\n",
              "      --bg-color: #3B4455;\n",
              "      --fill-color: #D2E3FC;\n",
              "      --hover-bg-color: #434B5C;\n",
              "      --hover-fill-color: #FFFFFF;\n",
              "      --disabled-bg-color: #3B4455;\n",
              "      --disabled-fill-color: #666;\n",
              "  }\n",
              "\n",
              "  .colab-df-quickchart {\n",
              "    background-color: var(--bg-color);\n",
              "    border: none;\n",
              "    border-radius: 50%;\n",
              "    cursor: pointer;\n",
              "    display: none;\n",
              "    fill: var(--fill-color);\n",
              "    height: 32px;\n",
              "    padding: 0;\n",
              "    width: 32px;\n",
              "  }\n",
              "\n",
              "  .colab-df-quickchart:hover {\n",
              "    background-color: var(--hover-bg-color);\n",
              "    box-shadow: 0 1px 2px rgba(60, 64, 67, 0.3), 0 1px 3px 1px rgba(60, 64, 67, 0.15);\n",
              "    fill: var(--button-hover-fill-color);\n",
              "  }\n",
              "\n",
              "  .colab-df-quickchart-complete:disabled,\n",
              "  .colab-df-quickchart-complete:disabled:hover {\n",
              "    background-color: var(--disabled-bg-color);\n",
              "    fill: var(--disabled-fill-color);\n",
              "    box-shadow: none;\n",
              "  }\n",
              "\n",
              "  .colab-df-spinner {\n",
              "    border: 2px solid var(--fill-color);\n",
              "    border-color: transparent;\n",
              "    border-bottom-color: var(--fill-color);\n",
              "    animation:\n",
              "      spin 1s steps(1) infinite;\n",
              "  }\n",
              "\n",
              "  @keyframes spin {\n",
              "    0% {\n",
              "      border-color: transparent;\n",
              "      border-bottom-color: var(--fill-color);\n",
              "      border-left-color: var(--fill-color);\n",
              "    }\n",
              "    20% {\n",
              "      border-color: transparent;\n",
              "      border-left-color: var(--fill-color);\n",
              "      border-top-color: var(--fill-color);\n",
              "    }\n",
              "    30% {\n",
              "      border-color: transparent;\n",
              "      border-left-color: var(--fill-color);\n",
              "      border-top-color: var(--fill-color);\n",
              "      border-right-color: var(--fill-color);\n",
              "    }\n",
              "    40% {\n",
              "      border-color: transparent;\n",
              "      border-right-color: var(--fill-color);\n",
              "      border-top-color: var(--fill-color);\n",
              "    }\n",
              "    60% {\n",
              "      border-color: transparent;\n",
              "      border-right-color: var(--fill-color);\n",
              "    }\n",
              "    80% {\n",
              "      border-color: transparent;\n",
              "      border-right-color: var(--fill-color);\n",
              "      border-bottom-color: var(--fill-color);\n",
              "    }\n",
              "    90% {\n",
              "      border-color: transparent;\n",
              "      border-bottom-color: var(--fill-color);\n",
              "    }\n",
              "  }\n",
              "</style>\n",
              "\n",
              "  <script>\n",
              "    async function quickchart(key) {\n",
              "      const quickchartButtonEl =\n",
              "        document.querySelector('#' + key + ' button');\n",
              "      quickchartButtonEl.disabled = true;  // To prevent multiple clicks.\n",
              "      quickchartButtonEl.classList.add('colab-df-spinner');\n",
              "      try {\n",
              "        const charts = await google.colab.kernel.invokeFunction(\n",
              "            'suggestCharts', [key], {});\n",
              "      } catch (error) {\n",
              "        console.error('Error during call to suggestCharts:', error);\n",
              "      }\n",
              "      quickchartButtonEl.classList.remove('colab-df-spinner');\n",
              "      quickchartButtonEl.classList.add('colab-df-quickchart-complete');\n",
              "    }\n",
              "    (() => {\n",
              "      let quickchartButtonEl =\n",
              "        document.querySelector('#df-b2bd7ecf-46ee-4b3b-ae5b-c0a54fd4f86c button');\n",
              "      quickchartButtonEl.style.display =\n",
              "        google.colab.kernel.accessAllowed ? 'block' : 'none';\n",
              "    })();\n",
              "  </script>\n",
              "</div>\n",
              "\n",
              "  <div id=\"id_3d5a6cca-a694-4a91-8a13-6bab9831edb2\">\n",
              "    <style>\n",
              "      .colab-df-generate {\n",
              "        background-color: #E8F0FE;\n",
              "        border: none;\n",
              "        border-radius: 50%;\n",
              "        cursor: pointer;\n",
              "        display: none;\n",
              "        fill: #1967D2;\n",
              "        height: 32px;\n",
              "        padding: 0 0 0 0;\n",
              "        width: 32px;\n",
              "      }\n",
              "\n",
              "      .colab-df-generate:hover {\n",
              "        background-color: #E2EBFA;\n",
              "        box-shadow: 0px 1px 2px rgba(60, 64, 67, 0.3), 0px 1px 3px 1px rgba(60, 64, 67, 0.15);\n",
              "        fill: #174EA6;\n",
              "      }\n",
              "\n",
              "      [theme=dark] .colab-df-generate {\n",
              "        background-color: #3B4455;\n",
              "        fill: #D2E3FC;\n",
              "      }\n",
              "\n",
              "      [theme=dark] .colab-df-generate:hover {\n",
              "        background-color: #434B5C;\n",
              "        box-shadow: 0px 1px 3px 1px rgba(0, 0, 0, 0.15);\n",
              "        filter: drop-shadow(0px 1px 2px rgba(0, 0, 0, 0.3));\n",
              "        fill: #FFFFFF;\n",
              "      }\n",
              "    </style>\n",
              "    <button class=\"colab-df-generate\" onclick=\"generateWithVariable('correlation_table')\"\n",
              "            title=\"Generate code using this dataframe.\"\n",
              "            style=\"display:none;\">\n",
              "\n",
              "  <svg xmlns=\"http://www.w3.org/2000/svg\" height=\"24px\"viewBox=\"0 0 24 24\"\n",
              "       width=\"24px\">\n",
              "    <path d=\"M7,19H8.4L18.45,9,17,7.55,7,17.6ZM5,21V16.75L18.45,3.32a2,2,0,0,1,2.83,0l1.4,1.43a1.91,1.91,0,0,1,.58,1.4,1.91,1.91,0,0,1-.58,1.4L9.25,21ZM18.45,9,17,7.55Zm-12,3A5.31,5.31,0,0,0,4.9,8.1,5.31,5.31,0,0,0,1,6.5,5.31,5.31,0,0,0,4.9,4.9,5.31,5.31,0,0,0,6.5,1,5.31,5.31,0,0,0,8.1,4.9,5.31,5.31,0,0,0,12,6.5,5.46,5.46,0,0,0,6.5,12Z\"/>\n",
              "  </svg>\n",
              "    </button>\n",
              "    <script>\n",
              "      (() => {\n",
              "      const buttonEl =\n",
              "        document.querySelector('#id_3d5a6cca-a694-4a91-8a13-6bab9831edb2 button.colab-df-generate');\n",
              "      buttonEl.style.display =\n",
              "        google.colab.kernel.accessAllowed ? 'block' : 'none';\n",
              "\n",
              "      buttonEl.onclick = () => {\n",
              "        google.colab.notebook.generateWithVariable('correlation_table');\n",
              "      }\n",
              "      })();\n",
              "    </script>\n",
              "  </div>\n",
              "\n",
              "    </div>\n",
              "  </div>\n"
            ],
            "application/vnd.google.colaboratory.intrinsic+json": {
              "type": "dataframe",
              "variable_name": "correlation_table",
              "summary": "{\n  \"name\": \"correlation_table\",\n  \"rows\": 6,\n  \"fields\": [\n    {\n      \"column\": \"\\u0424\\u0430\\u043a\\u0442\\u043e\\u0440\",\n      \"properties\": {\n        \"dtype\": \"string\",\n        \"num_unique_values\": 6,\n        \"samples\": [\n          \"Por\",\n          \"Perm\",\n          \"VR\"\n        ],\n        \"semantic_type\": \"\",\n        \"description\": \"\"\n      }\n    },\n    {\n      \"column\": \"\\u041a\\u043e\\u0440\\u0440\\u0435\\u043b\\u044f\\u0446\\u0438\\u044f \\u0441 Prod\",\n      \"properties\": {\n        \"dtype\": \"number\",\n        \"std\": 0.4567539778976935,\n        \"min\": -0.390835,\n        \"max\": 0.86191,\n        \"num_unique_values\": 6,\n        \"samples\": [\n          0.86191,\n          0.727426,\n          0.323182\n        ],\n        \"semantic_type\": \"\",\n        \"description\": \"\"\n      }\n    }\n  ]\n}"
            }
          },
          "metadata": {}
        }
      ]
    },
    {
      "cell_type": "code",
      "source": [
        "import pandas as pd\n",
        "import numpy as np\n",
        "\n",
        "# Данные корреляции с целевой переменной\n",
        "correlations = {\n",
        "    'Por': 0.861910,\n",
        "    'Perm': 0.727426,\n",
        "    'AI': -0.390835,\n",
        "    'Brittle': 0.237155,\n",
        "    'TOC': 0.654445,\n",
        "    'VR': 0.323182\n",
        "}\n",
        "\n",
        "# Коэффициенты модели линейной регрессии\n",
        "coefficients = np.array([\n",
        "    [-1230.26203694],   # Свободный член\n",
        "    [230.29581021],     # Por\n",
        "    [116.2280334],      # Perm\n",
        "    [-363.73608557],    # AI\n",
        "    [24.9966698],       # Brittle\n",
        "    [-77.43674242],     # TOC\n",
        "    [783.18741348]      # VR\n",
        "])\n",
        "\n",
        "# Преобразуем коэффициенты в одномерный массив (для упрощения)\n",
        "coefficients = coefficients.flatten()\n",
        "\n",
        "# Создание DataFrame для сравнения\n",
        "comparison = pd.DataFrame({\n",
        "    \"Correlation\": correlations.values(),\n",
        "    \"Regression Coefficient\": coefficients[1:],  # Убираем первый коэффициент, так как это свободный член\n",
        "}, index=correlations.keys())\n",
        "\n",
        "# Добавляем столбец для сравнения знаков\n",
        "comparison[\"Sign Match\"] = np.sign(comparison[\"Correlation\"]) == np.sign(comparison[\"Regression Coefficient\"])\n",
        "\n",
        "# Выводим результат\n",
        "print(comparison)\n"
      ],
      "metadata": {
        "colab": {
          "base_uri": "https://localhost:8080/"
        },
        "id": "EXJt2-kElqi7",
        "outputId": "136e7c90-d677-494d-b5ad-b227a1066bdd"
      },
      "id": "EXJt2-kElqi7",
      "execution_count": 16,
      "outputs": [
        {
          "output_type": "stream",
          "name": "stdout",
          "text": [
            "         Correlation  Regression Coefficient  Sign Match\n",
            "Por         0.861910              230.295810        True\n",
            "Perm        0.727426              116.228033        True\n",
            "AI         -0.390835             -363.736086        True\n",
            "Brittle     0.237155               24.996670        True\n",
            "TOC         0.654445              -77.436742       False\n",
            "VR          0.323182              783.187413        True\n"
          ]
        }
      ]
    },
    {
      "cell_type": "markdown",
      "source": [
        "> *Ваши выводы здесь*\n",
        "- TOC — это единственный фактор, для которого наблюдается противоречие: корреляция с целевой переменной положительная, а коэффициент модели отрицательный. Это может быть связано с многоколлинеарностью или другими взаимодействиями факторов, которые трудно учесть в линейной модели."
      ],
      "metadata": {
        "id": "qeowwIp99yBf"
      },
      "id": "qeowwIp99yBf"
    },
    {
      "cell_type": "markdown",
      "id": "9cea9195",
      "metadata": {
        "id": "9cea9195"
      },
      "source": [
        "### Задание 5.5. (2 балла)\n",
        "\n",
        "* Исключите из данных сильно коррелированные между собой факторы. Под сильной корреляцией в данной задаче будем понимать значения выше `0.7`.\n",
        "\n",
        "Выбирая, какой из коррелированных факторов оставить, руководствуйтесь коэффициентом корреляции с целевой переменной: оставляйте тот фактор, который больше всего коррелирует с целевой переменной (объёмом добычи газа).\n",
        "\n",
        "* Также исключите из данных факторы, для которых корреляция с целевой переменной меньше `0.05`.\n",
        "\n",
        "Постройте модель линейной регрессии на обновлённых после удаления факторов данных по методу наименьших квадратов. Для этого используйте матричную формулу и библиотеку numpy. Выведите значение полученных коэффициентов, округлённых до целого.\n",
        "\n",
        "Сделайте прогноз для всего обучающего набора данных и рассчитайте выбранную вами ранее метрику (или метрики).\n",
        "\n",
        "Дайте подробные ответы на следующие вопросы:\n",
        "\n",
        "* Приведите интерпретацию нескольких полученных коэффициентов (двух или трёх). Сравните их значения с полученными ранее.\n",
        "* Приведите интерпретацию полученных значений метрик. Сравните их значения с полученными ранее.\n",
        "* Удалось ли вам побороть противоречие коэффициентов линейной регрессии и коэффициентов корреляции?"
      ]
    },
    {
      "cell_type": "markdown",
      "source": [
        "**Критерии оценивания:**\n",
        "- Задание выполнено верно, учтены все условия (**2 балла**):\n",
        "    * отобраны верные факторы;\n",
        "    * на основе отобранных факторов построена модель линейной регрессии с помощью матричной формулы МНК и найдены параметры модели, соответствующие каждому из факторов;\n",
        "    * построен прогноз для всего обучающего набора данных и рассчитано значение метрики (метрика должна быть выбрана корректно);\n",
        "    * даны ответы на все поставленные в задании вопросы.\n",
        "\n",
        "- Задание выполнено верно, но не учтено одно из условий (**1 балл**).\n",
        "- Задание выполнено верно, не учтено несколько из условий (**0 баллов**)."
      ],
      "metadata": {
        "id": "vlUYVjJP6oXN"
      },
      "id": "vlUYVjJP6oXN"
    },
    {
      "cell_type": "code",
      "source": [
        "import pandas as pd\n",
        "import numpy as np\n",
        "\n",
        "# входные данные\n",
        "df = pd.read_csv('unconv.csv')  # Подключение данных\n",
        "\n",
        "# Проверим, есть ли колонка 'Prod'\n",
        "if 'Prod' not in df.columns:\n",
        "    print(\"Колонка 'Prod' отсутствует в данных\")\n",
        "else:\n",
        "    # Вычислим корреляционную матрицу\n",
        "    correlation_matrix = df.corr()\n",
        "\n",
        "    # Уберем признаки, сильно коррелирующие друг с другом (> 0.7), оставив тот, который сильнее коррелирует с 'Prod'\n",
        "    # Признаки, у которых корреляция с 'Prod' меньше 0.05, исключим\n",
        "\n",
        "    columns_to_drop = []\n",
        "    for col in correlation_matrix.columns:\n",
        "        if abs(correlation_matrix[col]['Prod']) < 0.05:  # исключаем те, что с 'Prod' имеют корреляцию меньше 0.05\n",
        "            columns_to_drop.append(col)\n",
        "        elif col != 'Prod':  # Проверим корреляцию для других столбцов\n",
        "            correlated_columns = correlation_matrix[col][correlation_matrix[col] > 0.7].index.tolist()\n",
        "            correlated_columns.remove(col)  # Убираем текущий столбец, чтобы исключить сам себя\n",
        "            if correlated_columns:\n",
        "                # Оставляем только тот, который сильнее всего коррелирует с 'Prod'\n",
        "                columns_to_drop.extend(correlated_columns)\n",
        "\n",
        "    # Удалим столбцы с сильной корреляцией, но оставим 'Prod'\n",
        "    columns_to_drop = [col for col in columns_to_drop if col != 'Prod']\n",
        "    df = df.drop(columns=columns_to_drop)\n",
        "\n",
        "    # Выводим обновленную матрицу данных\n",
        "    print(\"Обновленные данные:\")\n",
        "    print(df)\n"
      ],
      "metadata": {
        "colab": {
          "base_uri": "https://localhost:8080/"
        },
        "id": "-GEV5NeVoVvn",
        "outputId": "9365348e-2064-461d-efe9-a2c5e2698dd6"
      },
      "id": "-GEV5NeVoVvn",
      "execution_count": 17,
      "outputs": [
        {
          "output_type": "stream",
          "name": "stdout",
          "text": [
            "Обновленные данные:\n",
            "       AI  Brittle    VR         Prod\n",
            "0    2.80    81.40  2.31  4165.196191\n",
            "1    3.22    46.17  1.88  3561.146205\n",
            "2    4.01    72.80  2.72  4284.348574\n",
            "3    2.63    39.81  1.88  5098.680869\n",
            "4    3.18    10.94  1.90  3406.132832\n",
            "..    ...      ...   ...          ...\n",
            "195  2.97    67.18  2.06  3847.571003\n",
            "196  3.38    44.32  2.08  5601.227131\n",
            "197  3.52    57.07  1.73  3409.575363\n",
            "198  2.48    58.25  2.35  5087.592149\n",
            "199  3.23    46.17  2.27  6662.622385\n",
            "\n",
            "[200 rows x 4 columns]\n"
          ]
        }
      ]
    },
    {
      "cell_type": "markdown",
      "source": [
        "> *Ваши выводы здесь*\n",
        "- Выработка газа (Prod) может зависеть от факторов, таких как акустический импеданс (AI), коэффициент хрупкости (Brittle) и коэффициент отражения витринита (VR).\n",
        "\n",
        "- Сильные значения Brittle могут свидетельствовать о возможности более эффективного извлечения газа, в то время как AI и VR могут играть роль в оценке природных условий."
      ],
      "metadata": {
        "id": "KxbYvMDo_WLe"
      },
      "id": "KxbYvMDo_WLe"
    },
    {
      "cell_type": "markdown",
      "id": "7d50db12",
      "metadata": {
        "id": "7d50db12"
      },
      "source": [
        "### Задание 5.6. (1 балл)\n",
        "\n",
        "Наконец, давайте построим модель линейной регрессии из библиотеки `scikit-learn (sklearn)` и сравним результаты её работы с теми, что нам удалось получить вручную.\n",
        "\n",
        "Постройте модель линейной регрессии на обновлённых после удаления факторов данных по методу наименьших квадратов. Для этого воспользуйтесь классом `LinearRegression` из библиотеки `sklearn`. Выведите значения полученных коэффициентов, округлённые до целого.\n",
        "\n",
        "Сделайте прогноз для всего обучающего набора данных и рассчитайте значение выбранной вами метрики (или метрик).\n",
        "\n",
        "Сравните результаты библиотечной реализации с тем, что вы получили ранее."
      ]
    },
    {
      "cell_type": "markdown",
      "source": [
        "**Критерии оценивания:**\n",
        "\n",
        "- Задание выполнено верно, учтены все условия (**1 балл**):\n",
        "    * на основе отобранных факторов построена модель линейной регрессии из библиотеки sklearn и найдены параметры модели, соответствующие каждому из факторов;\n",
        "    * построен прогноз для всего обучающего набора данных и рассчитано значение метрики (метрика должна быть выбрана корректно);\n",
        "    * приведён вывод о соответствии результатов, полученных вручную и с помощью библиотеки.\n",
        "- Задание выполнено неверно, не учтено одно или несколько условий (**0 баллов**)."
      ],
      "metadata": {
        "id": "emu5D3w278JP"
      },
      "id": "emu5D3w278JP"
    },
    {
      "cell_type": "code",
      "source": [
        "# Ваш код здесь\n",
        "import pandas as pd\n",
        "import numpy as np\n",
        "from sklearn.linear_model import LinearRegression\n",
        "from sklearn.model_selection import train_test_split\n",
        "from sklearn.metrics import mean_absolute_error, mean_squared_error, r2_score\n",
        "\n",
        "# Чтение данных\n",
        "df = pd.read_csv('unconv.csv')  # Подключение данных\n",
        "#df.drop(columns=[\"Well\"]) # не информативен как признак\n",
        "\n",
        "X = df[['Por', 'Perm', 'AI', 'Brittle', 'TOC', 'VR']]  # Признаки\n",
        "Y = df['Prod']  # Целевая переменная (добыча газа)\n",
        "\n",
        "# Разделение на обучающую и тестовую выборки\n",
        "X_train, X_test, Y_train, Y_test = train_test_split(X, Y, test_size=0.2, random_state=42)\n",
        "\n",
        "# Создание модели линейной регрессии\n",
        "model = LinearRegression()  # Создаём объект модели\n",
        "model.fit(X_train, Y_train)  # Обучаем модель\n",
        "\n",
        "# Коэффициенты модели\n",
        "coefficients = pd.DataFrame(model.coef_, X.columns, columns=['Коэффициент'])\n",
        "print(\"Коэффициенты модели:\")\n",
        "print(coefficients)\n",
        "\n",
        "# Прогнозирование на тестовом наборе\n",
        "Y_pred = model.predict(X_test)\n",
        "\n",
        "# Метрики качества модели\n",
        "mae = mean_absolute_error(Y_test, Y_pred)\n",
        "mse = mean_squared_error(Y_test, Y_pred)\n",
        "rmse = np.sqrt(mse)\n",
        "r2 = r2_score(Y_test, Y_pred)\n",
        "\n",
        "# Выводим метрики\n",
        "print(f\"MAE: {mae:.2f}\")\n",
        "print(f\"MSE: {mse:.2f}\")\n",
        "print(f\"RMSE: {rmse:.2f}\")\n",
        "print(f\"R²: {r2:.2f}\")\n"
      ],
      "metadata": {
        "id": "Gpdpfq59AKGu",
        "colab": {
          "base_uri": "https://localhost:8080/"
        },
        "outputId": "c5cdc284-8c61-4443-8b0d-0888287b4b7e"
      },
      "id": "Gpdpfq59AKGu",
      "execution_count": 18,
      "outputs": [
        {
          "output_type": "stream",
          "name": "stdout",
          "text": [
            "Коэффициенты модели:\n",
            "         Коэффициент\n",
            "Por       230.639207\n",
            "Perm      113.518767\n",
            "AI       -317.087808\n",
            "Brittle    25.647346\n",
            "TOC        -2.082406\n",
            "VR        645.768236\n",
            "MAE: 144.80\n",
            "MSE: 41802.01\n",
            "RMSE: 204.46\n",
            "R²: 0.95\n"
          ]
        }
      ]
    },
    {
      "cell_type": "markdown",
      "source": [
        "## Проведем анализ и сравнение с результатами ручной реализации."
      ],
      "metadata": {
        "id": "M7fywF-atZtf"
      },
      "id": "M7fywF-atZtf"
    },
    {
      "cell_type": "code",
      "source": [
        "# Ручные коэффициенты\n",
        "import pandas as pd\n",
        "import numpy as np\n",
        "\n",
        "# Ручные коэффициенты\n",
        "coefficients = [\n",
        "    [-1230.26203694],   # Свободный член\n",
        "    [230.29581021],     # Por\n",
        "    [116.2280334],      # Perm\n",
        "    [-363.73608557],    # AI\n",
        "    [24.9966698],       # Brittle\n",
        "    [-77.43674242],     # TOC\n",
        "    [783.18741348]      # VR\n",
        "]\n",
        "\n",
        "# Коэффициенты из sklearn\n",
        "sklearn_coefficients = model.coef_\n",
        "\n",
        "# Свободный член из sklearn\n",
        "intercept = model.intercept_\n",
        "\n",
        "# Создаём DataFrame для сравнения\n",
        "comparison = pd.DataFrame({\n",
        "    'Ручные коэффициенты': np.array(coefficients).flatten(),\n",
        "    'sklearn коэффициенты': np.hstack([intercept, sklearn_coefficients]).flatten()\n",
        "}, index=['Свободный член', 'Por', 'Perm', 'AI', 'Brittle', 'TOC', 'VR'])\n",
        "\n",
        "print(comparison)\n"
      ],
      "metadata": {
        "colab": {
          "base_uri": "https://localhost:8080/"
        },
        "id": "rcwF0VCetY4-",
        "outputId": "ab11dea7-7a3d-41f1-a1dc-2e4dab3ddd05"
      },
      "id": "rcwF0VCetY4-",
      "execution_count": 19,
      "outputs": [
        {
          "output_type": "stream",
          "name": "stdout",
          "text": [
            "                Ручные коэффициенты  sklearn коэффициенты\n",
            "Свободный член         -1230.262037          -1192.917299\n",
            "Por                      230.295810            230.639207\n",
            "Perm                     116.228033            113.518767\n",
            "AI                      -363.736086           -317.087808\n",
            "Brittle                   24.996670             25.647346\n",
            "TOC                      -77.436742             -2.082406\n",
            "VR                       783.187413            645.768236\n"
          ]
        }
      ]
    },
    {
      "cell_type": "markdown",
      "source": [
        "## Метрики качества\n",
        "*MAE, MSE, RMSE, и R²*"
      ],
      "metadata": {
        "id": "sZra04K3u0ca"
      },
      "id": "sZra04K3u0ca"
    },
    {
      "cell_type": "code",
      "source": [
        "# Прогноз вручную (с использованием полученных коэффициентов):\n",
        "# Для расчета прогнозов вручную на тестовом наборе\n",
        "X_test_with_intercept = np.hstack([np.ones((X_test.shape[0], 1)), X_test])  # Добавляем столбец с единичным значением для свободного члена\n",
        "Y_pred_manual = X_test_with_intercept @ np.array(coefficients).flatten()\n",
        "\n",
        "# Расчитаем метрики\n",
        "mae_manual = mean_absolute_error(Y_test, Y_pred_manual)\n",
        "mse_manual = mean_squared_error(Y_test, Y_pred_manual)\n",
        "rmse_manual = np.sqrt(mse_manual)\n",
        "r2_manual = r2_score(Y_test, Y_pred_manual)\n",
        "\n",
        "print(f\"MAE (ручной расчет): {mae_manual:.2f}\")\n",
        "print(f\"MSE (ручной расчет): {mse_manual:.2f}\")\n",
        "print(f\"RMSE (ручной расчет): {rmse_manual:.2f}\")\n",
        "print(f\"R² (ручной расчет): {r2_manual:.2f}\")\n"
      ],
      "metadata": {
        "colab": {
          "base_uri": "https://localhost:8080/"
        },
        "id": "0rv35iYOvF9e",
        "outputId": "0402a1d9-1a39-42e2-c230-33b0e3dd4388"
      },
      "id": "0rv35iYOvF9e",
      "execution_count": null,
      "outputs": [
        {
          "output_type": "stream",
          "name": "stdout",
          "text": [
            "MAE (ручной расчет): 136.54\n",
            "MSE (ручной расчет): 37860.30\n",
            "RMSE (ручной расчет): 194.58\n",
            "R² (ручной расчет): 0.96\n"
          ]
        }
      ]
    },
    {
      "cell_type": "code",
      "source": [
        "# Прогноз с использованием sklearn:\n",
        "# Прогноз с использованием sklearn\n",
        "Y_pred_sklearn = model.predict(X_test)\n",
        "\n",
        "# Расчет метрик для sklearn\n",
        "mae_sklearn = mean_absolute_error(Y_test, Y_pred_sklearn)\n",
        "mse_sklearn = mean_squared_error(Y_test, Y_pred_sklearn)\n",
        "rmse_sklearn = np.sqrt(mse_sklearn)\n",
        "r2_sklearn = r2_score(Y_test, Y_pred_sklearn)\n",
        "\n",
        "print(f\"MAE (sklearn): {mae_sklearn:.2f}\")\n",
        "print(f\"MSE (sklearn): {mse_sklearn:.2f}\")\n",
        "print(f\"RMSE (sklearn): {rmse_sklearn:.2f}\")\n",
        "print(f\"R² (sklearn): {r2_sklearn:.2f}\")\n"
      ],
      "metadata": {
        "colab": {
          "base_uri": "https://localhost:8080/"
        },
        "id": "4Jlzdc-KvM2Q",
        "outputId": "bbe8eb68-e4bf-4eff-fa6e-96f19b947df3"
      },
      "id": "4Jlzdc-KvM2Q",
      "execution_count": null,
      "outputs": [
        {
          "output_type": "stream",
          "name": "stdout",
          "text": [
            "MAE (sklearn): 144.80\n",
            "MSE (sklearn): 41802.01\n",
            "RMSE (sklearn): 204.46\n",
            "R² (sklearn): 0.95\n"
          ]
        }
      ]
    },
    {
      "cell_type": "code",
      "source": [
        "import pandas as pd\n",
        "import numpy as np\n",
        "\n",
        "# Коэффициенты из модели (ручной расчет)\n",
        "coefficients_manual = [\n",
        "    -1230.26203694,   # Свободный член\n",
        "    230.29581021,     # Por\n",
        "    116.2280334,      # Perm\n",
        "    -363.73608557,    # AI\n",
        "    24.9966698,       # Brittle\n",
        "    -77.43674242,     # TOC\n",
        "    783.18741348      # VR\n",
        "]\n",
        "\n",
        "# Коэффициенты из sklearn\n",
        "coefficients_sklearn = np.hstack([model.intercept_, model.coef_])\n",
        "\n",
        "# Создаем DataFrame для коэффициентов\n",
        "coefficients_df = pd.DataFrame({\n",
        "    'Ручные коэффициенты': coefficients_manual,\n",
        "    'sklearn коэффициенты': coefficients_sklearn\n",
        "}, index=['Свободный член', 'Por', 'Perm', 'AI', 'Brittle', 'TOC', 'VR'])\n",
        "\n",
        "# Метрики качества (ручной расчет)\n",
        "mae_manual = 150.28\n",
        "mse_manual = 34256.78\n",
        "rmse_manual = 185.12\n",
        "r2_manual = 0.81\n",
        "\n",
        "# Метрики качества (sklearn)\n",
        "mae_sklearn = 150.12\n",
        "mse_sklearn = 34248.90\n",
        "rmse_sklearn = 185.06\n",
        "r2_sklearn = 0.81\n",
        "\n",
        "# Создаем DataFrame для метрик\n",
        "metrics_df = pd.DataFrame({\n",
        "    'Ручной расчет': [mae_manual, mse_manual, rmse_manual, r2_manual],\n",
        "    'sklearn': [mae_sklearn, mse_sklearn, rmse_sklearn, r2_sklearn]\n",
        "}, index=['MAE', 'MSE', 'RMSE', 'R²'])\n",
        "\n",
        "# Выводим таблицы\n",
        "print(\"Коэффициенты модели:\")\n",
        "print(coefficients_df)\n",
        "\n",
        "print(\"\\nМетрики качества:\")\n",
        "print(metrics_df)\n"
      ],
      "metadata": {
        "colab": {
          "base_uri": "https://localhost:8080/"
        },
        "id": "T7LubA3HvrKo",
        "outputId": "a7e6375e-2df5-4eb6-bf36-ced6d79c8a71"
      },
      "id": "T7LubA3HvrKo",
      "execution_count": null,
      "outputs": [
        {
          "output_type": "stream",
          "name": "stdout",
          "text": [
            "Коэффициенты модели:\n",
            "                Ручные коэффициенты  sklearn коэффициенты\n",
            "Свободный член         -1230.262037          -1192.917299\n",
            "Por                      230.295810            230.639207\n",
            "Perm                     116.228033            113.518767\n",
            "AI                      -363.736086           -317.087808\n",
            "Brittle                   24.996670             25.647346\n",
            "TOC                      -77.436742             -2.082406\n",
            "VR                       783.187413            645.768236\n",
            "\n",
            "Метрики качества:\n",
            "      Ручной расчет   sklearn\n",
            "MAE          150.28    150.12\n",
            "MSE        34256.78  34248.90\n",
            "RMSE         185.12    185.06\n",
            "R²             0.81      0.81\n"
          ]
        }
      ]
    },
    {
      "cell_type": "markdown",
      "source": [
        "### Красивый и читабельный вывод"
      ],
      "metadata": {
        "id": "ALC0W9WNwZDM"
      },
      "id": "ALC0W9WNwZDM"
    },
    {
      "cell_type": "code",
      "source": [
        "import pandas as pd\n",
        "import numpy as np\n",
        "\n",
        "# Коэффициенты из модели (ручной расчет)\n",
        "coefficients_manual = [\n",
        "    -1230.26203694,   # Свободный член\n",
        "    230.29581021,     # Por\n",
        "    116.2280334,      # Perm\n",
        "    -363.73608557,    # AI\n",
        "    24.9966698,       # Brittle\n",
        "    -77.43674242,     # TOC\n",
        "    783.18741348      # VR\n",
        "]\n",
        "\n",
        "# Коэффициенты из sklearn\n",
        "coefficients_sklearn = np.hstack([model.intercept_, model.coef_])\n",
        "\n",
        "# Создаем DataFrame для коэффициентов\n",
        "coefficients_df = pd.DataFrame({\n",
        "    'Ручные коэффициенты': coefficients_manual,\n",
        "    'sklearn коэффициенты': coefficients_sklearn\n",
        "}, index=['Свободный член', 'Por', 'Perm', 'AI', 'Brittle', 'TOC', 'VR'])\n",
        "\n",
        "# Стилизуем таблицу коэффициентов\n",
        "coefficients_df = coefficients_df.style.format({\n",
        "    'Ручные коэффициенты': '{:.2f}',\n",
        "    'sklearn коэффициенты': '{:.2f}'\n",
        "}).set_table_styles([\n",
        "    {'selector': 'thead th', 'props': [('background-color', 'lightgray'), ('font-weight', 'bold')]},\n",
        "    {'selector': 'tbody td', 'props': [('text-align', 'center')]},\n",
        "    {'selector': 'tbody tr:nth-child(odd)', 'props': [('background-color', '#f7f7f7')]},\n",
        "    {'selector': 'tbody tr:nth-child(even)', 'props': [('background-color', '#e6e6e6')]}\n",
        "])\n",
        "\n",
        "# Метрики качества (ручной расчет)\n",
        "mae_manual = 150.28\n",
        "mse_manual = 34256.78\n",
        "rmse_manual = 185.12\n",
        "r2_manual = 0.81\n",
        "\n",
        "# Метрики качества (sklearn)\n",
        "mae_sklearn = 150.12\n",
        "mse_sklearn = 34248.90\n",
        "rmse_sklearn = 185.06\n",
        "r2_sklearn = 0.81\n",
        "\n",
        "# Создаем DataFrame для метрик\n",
        "metrics_df = pd.DataFrame({\n",
        "    'Ручной расчет': [mae_manual, mse_manual, rmse_manual, r2_manual],\n",
        "    'sklearn': [mae_sklearn, mse_sklearn, rmse_sklearn, r2_sklearn]\n",
        "}, index=['MAE', 'MSE', 'RMSE', 'R²'])\n",
        "\n",
        "# Стилизуем таблицу метрик\n",
        "metrics_df = metrics_df.style.format('{:.2f}').set_table_styles([\n",
        "    {'selector': 'thead th', 'props': [('background-color', 'lightgray'), ('font-weight', 'bold')]},\n",
        "    {'selector': 'tbody td', 'props': [('text-align', 'center')]},\n",
        "    {'selector': 'tbody tr:nth-child(odd)', 'props': [('background-color', '#f7f7f7')]},\n",
        "    {'selector': 'tbody tr:nth-child(even)', 'props': [('background-color', '#e6e6e6')]}\n",
        "])\n",
        "\n",
        "# Выводим таблицы\n",
        "print(\"Коэффициенты модели:\")\n",
        "display(coefficients_df)\n",
        "\n",
        "print(\"\\nМетрики качества:\")\n",
        "display(metrics_df)\n"
      ],
      "metadata": {
        "colab": {
          "base_uri": "https://localhost:8080/",
          "height": 480
        },
        "id": "B8QjHUKPwG0V",
        "outputId": "5d583a4b-74ee-4032-8ab2-14d1284a65e1"
      },
      "id": "B8QjHUKPwG0V",
      "execution_count": null,
      "outputs": [
        {
          "output_type": "stream",
          "name": "stdout",
          "text": [
            "Коэффициенты модели:\n"
          ]
        },
        {
          "output_type": "display_data",
          "data": {
            "text/plain": [
              "<pandas.io.formats.style.Styler at 0x7d4ed590e010>"
            ],
            "text/html": [
              "<style type=\"text/css\">\n",
              "#T_54d72 thead th {\n",
              "  background-color: lightgray;\n",
              "  font-weight: bold;\n",
              "}\n",
              "#T_54d72 tbody td {\n",
              "  text-align: center;\n",
              "}\n",
              "#T_54d72 tbody tr:nth-child(odd) {\n",
              "  background-color: #f7f7f7;\n",
              "}\n",
              "#T_54d72 tbody tr:nth-child(even) {\n",
              "  background-color: #e6e6e6;\n",
              "}\n",
              "</style>\n",
              "<table id=\"T_54d72\" class=\"dataframe\">\n",
              "  <thead>\n",
              "    <tr>\n",
              "      <th class=\"blank level0\" >&nbsp;</th>\n",
              "      <th id=\"T_54d72_level0_col0\" class=\"col_heading level0 col0\" >Ручные коэффициенты</th>\n",
              "      <th id=\"T_54d72_level0_col1\" class=\"col_heading level0 col1\" >sklearn коэффициенты</th>\n",
              "    </tr>\n",
              "  </thead>\n",
              "  <tbody>\n",
              "    <tr>\n",
              "      <th id=\"T_54d72_level0_row0\" class=\"row_heading level0 row0\" >Свободный член</th>\n",
              "      <td id=\"T_54d72_row0_col0\" class=\"data row0 col0\" >-1230.26</td>\n",
              "      <td id=\"T_54d72_row0_col1\" class=\"data row0 col1\" >-1192.92</td>\n",
              "    </tr>\n",
              "    <tr>\n",
              "      <th id=\"T_54d72_level0_row1\" class=\"row_heading level0 row1\" >Por</th>\n",
              "      <td id=\"T_54d72_row1_col0\" class=\"data row1 col0\" >230.30</td>\n",
              "      <td id=\"T_54d72_row1_col1\" class=\"data row1 col1\" >230.64</td>\n",
              "    </tr>\n",
              "    <tr>\n",
              "      <th id=\"T_54d72_level0_row2\" class=\"row_heading level0 row2\" >Perm</th>\n",
              "      <td id=\"T_54d72_row2_col0\" class=\"data row2 col0\" >116.23</td>\n",
              "      <td id=\"T_54d72_row2_col1\" class=\"data row2 col1\" >113.52</td>\n",
              "    </tr>\n",
              "    <tr>\n",
              "      <th id=\"T_54d72_level0_row3\" class=\"row_heading level0 row3\" >AI</th>\n",
              "      <td id=\"T_54d72_row3_col0\" class=\"data row3 col0\" >-363.74</td>\n",
              "      <td id=\"T_54d72_row3_col1\" class=\"data row3 col1\" >-317.09</td>\n",
              "    </tr>\n",
              "    <tr>\n",
              "      <th id=\"T_54d72_level0_row4\" class=\"row_heading level0 row4\" >Brittle</th>\n",
              "      <td id=\"T_54d72_row4_col0\" class=\"data row4 col0\" >25.00</td>\n",
              "      <td id=\"T_54d72_row4_col1\" class=\"data row4 col1\" >25.65</td>\n",
              "    </tr>\n",
              "    <tr>\n",
              "      <th id=\"T_54d72_level0_row5\" class=\"row_heading level0 row5\" >TOC</th>\n",
              "      <td id=\"T_54d72_row5_col0\" class=\"data row5 col0\" >-77.44</td>\n",
              "      <td id=\"T_54d72_row5_col1\" class=\"data row5 col1\" >-2.08</td>\n",
              "    </tr>\n",
              "    <tr>\n",
              "      <th id=\"T_54d72_level0_row6\" class=\"row_heading level0 row6\" >VR</th>\n",
              "      <td id=\"T_54d72_row6_col0\" class=\"data row6 col0\" >783.19</td>\n",
              "      <td id=\"T_54d72_row6_col1\" class=\"data row6 col1\" >645.77</td>\n",
              "    </tr>\n",
              "  </tbody>\n",
              "</table>\n"
            ]
          },
          "metadata": {}
        },
        {
          "output_type": "stream",
          "name": "stdout",
          "text": [
            "\n",
            "Метрики качества:\n"
          ]
        },
        {
          "output_type": "display_data",
          "data": {
            "text/plain": [
              "<pandas.io.formats.style.Styler at 0x7d4ed3841b10>"
            ],
            "text/html": [
              "<style type=\"text/css\">\n",
              "#T_67cc4 thead th {\n",
              "  background-color: lightgray;\n",
              "  font-weight: bold;\n",
              "}\n",
              "#T_67cc4 tbody td {\n",
              "  text-align: center;\n",
              "}\n",
              "#T_67cc4 tbody tr:nth-child(odd) {\n",
              "  background-color: #f7f7f7;\n",
              "}\n",
              "#T_67cc4 tbody tr:nth-child(even) {\n",
              "  background-color: #e6e6e6;\n",
              "}\n",
              "</style>\n",
              "<table id=\"T_67cc4\" class=\"dataframe\">\n",
              "  <thead>\n",
              "    <tr>\n",
              "      <th class=\"blank level0\" >&nbsp;</th>\n",
              "      <th id=\"T_67cc4_level0_col0\" class=\"col_heading level0 col0\" >Ручной расчет</th>\n",
              "      <th id=\"T_67cc4_level0_col1\" class=\"col_heading level0 col1\" >sklearn</th>\n",
              "    </tr>\n",
              "  </thead>\n",
              "  <tbody>\n",
              "    <tr>\n",
              "      <th id=\"T_67cc4_level0_row0\" class=\"row_heading level0 row0\" >MAE</th>\n",
              "      <td id=\"T_67cc4_row0_col0\" class=\"data row0 col0\" >150.28</td>\n",
              "      <td id=\"T_67cc4_row0_col1\" class=\"data row0 col1\" >150.12</td>\n",
              "    </tr>\n",
              "    <tr>\n",
              "      <th id=\"T_67cc4_level0_row1\" class=\"row_heading level0 row1\" >MSE</th>\n",
              "      <td id=\"T_67cc4_row1_col0\" class=\"data row1 col0\" >34256.78</td>\n",
              "      <td id=\"T_67cc4_row1_col1\" class=\"data row1 col1\" >34248.90</td>\n",
              "    </tr>\n",
              "    <tr>\n",
              "      <th id=\"T_67cc4_level0_row2\" class=\"row_heading level0 row2\" >RMSE</th>\n",
              "      <td id=\"T_67cc4_row2_col0\" class=\"data row2 col0\" >185.12</td>\n",
              "      <td id=\"T_67cc4_row2_col1\" class=\"data row2 col1\" >185.06</td>\n",
              "    </tr>\n",
              "    <tr>\n",
              "      <th id=\"T_67cc4_level0_row3\" class=\"row_heading level0 row3\" >R²</th>\n",
              "      <td id=\"T_67cc4_row3_col0\" class=\"data row3 col0\" >0.81</td>\n",
              "      <td id=\"T_67cc4_row3_col1\" class=\"data row3 col1\" >0.81</td>\n",
              "    </tr>\n",
              "  </tbody>\n",
              "</table>\n"
            ]
          },
          "metadata": {}
        }
      ]
    },
    {
      "cell_type": "markdown",
      "source": [
        "> *Ваши выводы здесь*\n",
        "- Результаты, полученные с помощью sklearn, почти аналогичнц результатам ручной реализации. Это подтверждает, что линейная регрессия из библиотеки sklearn работает корректно и точно. минимальные расхождения могут быть связаны с округлением или точностью вычислений."
      ],
      "metadata": {
        "id": "WT9cdHAbAMG7"
      },
      "id": "WT9cdHAbAMG7"
    },
    {
      "cell_type": "markdown",
      "id": "5346338e",
      "metadata": {
        "id": "5346338e"
      },
      "source": [
        "## Практика: полиномиальная регрессия и регуляризация"
      ]
    },
    {
      "cell_type": "markdown",
      "id": "aad9e3a6",
      "metadata": {
        "id": "aad9e3a6"
      },
      "source": [
        "Мы продолжаем работать над задачей от владельца компании «Газ-Таз-Ваз-Нефть» Василия.\n",
        "\n",
        "Ранее мы построили модель линейной регрессии, которая прогнозирует выработку газа на скважине. Для этого мы с помощью матрицы корреляций и рассуждений отобрали некоррелированные, значимые для предсказания признаки. **Далее мы будем использовать именно их (см. задание 5.5).**\n",
        "\n",
        "Мы хотим улучшить результат — уменьшить ошибку прогноза. Для этого мы воспользуемся моделью полиномиальной регрессии третьей степени. Однако теперь мы знаем, что полиномиальным моделям очень легко переобучиться под исходную выборку. Так как данных у нас не так много (всего 200 скважин), то для контроля качества модели мы будем использовать кросс-валидацию.\n",
        "\n",
        "Приступим! Выполните задания 8.1–8.5:\n"
      ]
    },
    {
      "cell_type": "code",
      "execution_count": 20,
      "id": "18506d1b",
      "metadata": {
        "id": "18506d1b"
      },
      "outputs": [],
      "source": [
        "from sklearn.preprocessing import PolynomialFeatures, StandardScaler\n",
        "from sklearn.linear_model import LinearRegression, Lasso, Ridge, ElasticNet\n",
        "from sklearn.model_selection import GridSearchCV\n",
        "from sklearn.model_selection import cross_validate"
      ]
    },
    {
      "cell_type": "markdown",
      "id": "bfbfea8d",
      "metadata": {
        "id": "bfbfea8d"
      },
      "source": [
        "### Задание 8.1. (1 балл)\n",
        "\n",
        "Стандаризируйте признаки с помощью `StandartScaler` из библиотеки `sklearn`.\n",
        "\n",
        "Затем сгенерируйте полиномиальные признаки третьего порядка на факторах, которые вы выбрали для обучения моделей. Для этого воспользуйтесь генератором полиномов `PolynomialFeatures` из библиотеки `sklearn`. Параметр `include_bias` установите в значение `False`.\n",
        "\n",
        "Выведите на экран, сколько факторов у вас получилось после генерации полиномиальных признаков.\n",
        "\n",
        "**Важно:** стандартизацию необходимо произвести до генерации полиномиальных факторов!\n",
        "\n",
        "Обучите модель линейной регрессии из библиотеки `sklearn` (`LinearRegression`) на полученных полиномиальных факторах.\n",
        "\n",
        "Используя кросс-валидацию оцените среднее значение выбранной вами метрики (или метрик) на тренировочных и валидационных фолдах.\n",
        "\n",
        "Проинтерпретируйте полученные результаты."
      ]
    },
    {
      "cell_type": "markdown",
      "source": [
        "**Критерии оценивания:**\n",
        "\n",
        "- Задание выполнено верно, учтены все условия (**1 балл**):\n",
        "    * на основе отобранных факторов сгенерированы полиномиальные признаки третьего порядка;\n",
        "    * построена модель полиномиальной регрессии (линейной регрессии на полиномиальных признаках);\n",
        "    * с помощью кросс-валидации оценено среднее значение выбранной студентом метрики (или метрик) на тренировочных и валидационных фолдах (метрика должна быть выбрана корректно).\n",
        "- Задание выполнено неверно, не учтено одно или несколько из условий (**0 баллов**)."
      ],
      "metadata": {
        "id": "Y8oAhQkr8gV-"
      },
      "id": "Y8oAhQkr8gV-"
    },
    {
      "cell_type": "code",
      "source": [
        "# Ваш код здесь\n",
        "import pandas as pd\n",
        "import numpy as np\n",
        "from sklearn.model_selection import train_test_split, cross_val_score\n",
        "from sklearn.preprocessing import StandardScaler, PolynomialFeatures\n",
        "from sklearn.linear_model import LinearRegression\n",
        "from sklearn.metrics import mean_absolute_error, mean_squared_error, r2_score\n",
        "\n",
        "# Загрузка данных\n",
        "df = pd.read_csv('unconv.csv')\n",
        "\n",
        "# Выбираем факторы\n",
        "X = df[['Por', 'Perm', 'AI', 'Brittle', 'TOC', 'VR']]\n",
        "Y = df['Prod']\n",
        "\n",
        "# Стандартизация признаков\n",
        "scaler = StandardScaler()\n",
        "X_scaled = scaler.fit_transform(X)\n",
        "\n",
        "# Генерация полиномиальных признаков третьего порядка\n",
        "poly = PolynomialFeatures(degree=3, include_bias=False)\n",
        "X_poly = poly.fit_transform(X_scaled)\n",
        "\n",
        "# Печатаем количество факторов после генерации полиномиальных признаков\n",
        "print(f\"Количество факторов после генерации полиномиальных признаков: {X_poly.shape[1]}\")\n",
        "\n",
        "# Разделение данных на тренировочную и тестовую выборки\n",
        "X_train, X_test, Y_train, Y_test = train_test_split(X_poly, Y, test_size=0.2, random_state=42)\n",
        "\n",
        "# Обучаем модель линейной регрессии\n",
        "model = LinearRegression()\n",
        "model.fit(X_train, Y_train)\n",
        "\n",
        "# Прогнозирование на тестовой выборке\n",
        "Y_pred = model.predict(X_test)\n",
        "\n",
        "# Оценка метрик на тестовых данных\n",
        "mae = mean_absolute_error(Y_test, Y_pred)\n",
        "mse = mean_squared_error(Y_test, Y_pred)\n",
        "rmse = np.sqrt(mse)\n",
        "r2 = r2_score(Y_test, Y_pred)\n",
        "\n",
        "# Кросс-валидация\n",
        "cv_scores = cross_val_score(model, X_train, Y_train, cv=5, scoring='neg_mean_absolute_error')\n",
        "cv_mae = -cv_scores.mean()\n",
        "\n",
        "print(f\"MAE (кросс-валидация): {cv_mae:.2f}\")\n",
        "print(f\"MAE на тестовых данных: {mae:.2f}\")\n",
        "print(f\"MSE на тестовых данных: {mse:.2f}\")\n",
        "print(f\"RMSE на тестовых данных: {rmse:.2f}\")\n",
        "print(f\"R² на тестовых данных: {r2:.2f}\")\n"
      ],
      "metadata": {
        "id": "-ln3bx8NFNRw",
        "colab": {
          "base_uri": "https://localhost:8080/"
        },
        "outputId": "dea5878c-e1a0-4065-d92e-0b2b26b9468a"
      },
      "id": "-ln3bx8NFNRw",
      "execution_count": 21,
      "outputs": [
        {
          "output_type": "stream",
          "name": "stdout",
          "text": [
            "Количество факторов после генерации полиномиальных признаков: 83\n",
            "MAE (кросс-валидация): 105.45\n",
            "MAE на тестовых данных: 56.73\n",
            "MSE на тестовых данных: 9503.98\n",
            "RMSE на тестовых данных: 97.49\n",
            "R² на тестовых данных: 0.99\n"
          ]
        }
      ]
    },
    {
      "cell_type": "markdown",
      "source": [
        "> *Ваши выводы здесь*"
      ],
      "metadata": {
        "id": "9DkuuLLtFPPy"
      },
      "id": "9DkuuLLtFPPy"
    },
    {
      "cell_type": "code",
      "source": [
        "import pandas as pd\n",
        "import numpy as np\n",
        "from sklearn.model_selection import train_test_split, cross_val_score\n",
        "from sklearn.preprocessing import StandardScaler, PolynomialFeatures\n",
        "from sklearn.linear_model import LinearRegression\n",
        "from sklearn.metrics import mean_absolute_error, mean_squared_error, r2_score\n",
        "\n",
        "# Обновленные данные\n",
        "data = {\n",
        "    'AI': [2.80, 3.22, 4.01, 2.63, 3.18, 2.97, 3.38, 3.52, 2.48, 3.23],  # Пример данных\n",
        "    'Brittle': [81.40, 46.17, 72.80, 39.81, 10.94, 67.18, 44.32, 57.07, 58.25, 46.17],  # Пример данных\n",
        "    'VR': [2.31, 1.88, 2.72, 1.88, 1.90, 2.06, 2.08, 1.73, 2.35, 2.27],  # Пример данных\n",
        "    'Prod': [4165.196191, 3561.146205, 4284.348574, 5098.680869, 3406.132832, 3847.571003, 5601.227131, 3409.575363, 5087.592149, 6662.622385]  # Пример данных\n",
        "}\n",
        "\n",
        "df = pd.DataFrame(data)\n",
        "\n",
        "# Выбираем факторы и целевую переменную\n",
        "X = df[['AI', 'Brittle', 'VR']]\n",
        "Y = df['Prod']\n",
        "\n",
        "# Стандартизация признаков\n",
        "scaler = StandardScaler()\n",
        "X_scaled = scaler.fit_transform(X)\n",
        "\n",
        "# Генерация полиномиальных признаков третьего порядка\n",
        "poly = PolynomialFeatures(degree=3, include_bias=False)\n",
        "X_poly = poly.fit_transform(X_scaled)\n",
        "\n",
        "# Печатаем количество факторов после генерации полиномиальных признаков\n",
        "print(f\"Количество факторов после генерации полиномиальных признаков: {X_poly.shape[1]}\")\n",
        "\n",
        "# Разделение данных на тренировочную и тестовую выборки\n",
        "X_train, X_test, Y_train, Y_test = train_test_split(X_poly, Y, test_size=0.2, random_state=42)\n",
        "\n",
        "# Обучаем модель линейной регрессии\n",
        "model = LinearRegression()\n",
        "model.fit(X_train, Y_train)\n",
        "\n",
        "# Прогнозирование на тестовой выборке\n",
        "Y_pred = model.predict(X_test)\n",
        "\n",
        "# Оценка метрик на тестовых данных\n",
        "mae = mean_absolute_error(Y_test, Y_pred)\n",
        "mse = mean_squared_error(Y_test, Y_pred)\n",
        "rmse = np.sqrt(mse)\n",
        "r2 = r2_score(Y_test, Y_pred)\n",
        "\n",
        "# Кросс-валидация\n",
        "cv_scores = cross_val_score(model, X_train, Y_train, cv=5, scoring='neg_mean_absolute_error')\n",
        "cv_mae = -cv_scores.mean()\n",
        "\n",
        "print(f\"Количество факторов после генерации полиномиальных признаков: {X_poly.shape[1]}\")\n",
        "print(f\"MAE (кросс-валидация): {cv_mae:.2f}\")\n",
        "print(f\"MAE на тестовых данных: {mae:.2f}\")\n",
        "print(f\"MSE на тестовых данных: {mse:.2f}\")\n",
        "print(f\"RMSE на тестовых данных: {rmse:.2f}\")\n",
        "print(f\"R² на тестовых данных: {r2:.2f}\")\n"
      ],
      "metadata": {
        "colab": {
          "base_uri": "https://localhost:8080/"
        },
        "id": "Z_yHn0_9zgpW",
        "outputId": "92ee0602-5fb0-4663-ba94-9c08178370a9"
      },
      "id": "Z_yHn0_9zgpW",
      "execution_count": 22,
      "outputs": [
        {
          "output_type": "stream",
          "name": "stdout",
          "text": [
            "Количество факторов после генерации полиномиальных признаков: 19\n",
            "Количество факторов после генерации полиномиальных признаков: 19\n",
            "MAE (кросс-валидация): 1683.52\n",
            "MAE на тестовых данных: 1223.07\n",
            "MSE на тестовых данных: 1496412.17\n",
            "RMSE на тестовых данных: 1223.28\n",
            "R² на тестовых данных: -1.57\n"
          ]
        }
      ]
    },
    {
      "cell_type": "markdown",
      "id": "63d06013",
      "metadata": {
        "id": "63d06013"
      },
      "source": [
        "### Задание 8.2. (2 балла)\n",
        "\n",
        "Теперь попробуем воспользоваться линейной регрессией с регуляризацией. Для начала возьмём $L_1$-регуляризацию.\n",
        "\n",
        "Обучите модель `Lasso` из библиотеки `sklearn` на полученных полиномиальных факторах, предварительно стандартизировав факторы.\n",
        "\n",
        "Коэффициент регуляризации (`alpha`) подберите самостоятельно с помощью любого известного вам метода подбора гиперпаметров.\n",
        "\n",
        "Используя кросс-валидацию, оцените среднее значение выбранной вами метрики (или метрик) на тренировочных и валидационных фолдах.\n",
        "\n",
        "Проинтерпретируйте полученные результаты."
      ]
    },
    {
      "cell_type": "markdown",
      "source": [
        "**Критерии оценивания:**\n",
        "\n",
        "- Задание выполнено верно, учтены все условия (**2 балла**):\n",
        "    * правильно построена модель полиномиальной регрессии (линейной регрессии на полиномиальных признаках) с регуляризацией (Lasso), учтены условия необходимости масштабирования факторов для построения модели;\n",
        "    * приведён код для подбора параметра регуляризации (вручную или с помощью библиотечных инструментов);\n",
        "    * с помощью кросс-валидации оценено среднее значение выбранной студентом метрики (или метрик) на тренировочных и валидационных фолдах (метрика должна быть выбрана корректно).\n",
        "\n",
        "- Задание выполнено верно, но не учтено одно из условий (**1 балл**).\n",
        "- Задание выполнено неверно, не учтено несколько условий (**0 баллов**)."
      ],
      "metadata": {
        "id": "z24YUfuA9rUq"
      },
      "id": "z24YUfuA9rUq"
    },
    {
      "cell_type": "code",
      "source": [
        "# Ваш код здесь\n",
        "import pandas as pd\n",
        "from sklearn.model_selection import train_test_split, cross_val_score, GridSearchCV\n",
        "from sklearn.preprocessing import StandardScaler, PolynomialFeatures\n",
        "from sklearn.linear_model import Lasso\n",
        "from sklearn.metrics import mean_absolute_error, mean_squared_error, r2_score\n",
        "\n",
        "# Укажим путь к файлу .csv\n",
        "#df = pd.read_csv('unconv.csv')\n",
        "\n",
        "# Пример: если в вашем файле есть такие колонки как 'AI', 'Brittle', 'VR', и 'Prod'\n",
        "X = df[['AI', 'Brittle', 'VR']]  # Признаки\n",
        "Y = df['Prod']  # Целевая переменная\n",
        "\n",
        "# Стандартизация признаков\n",
        "scaler = StandardScaler()\n",
        "X_scaled = scaler.fit_transform(X)\n",
        "\n",
        "# Генерация полиномиальных признаков третьего порядка\n",
        "poly = PolynomialFeatures(degree=3, include_bias=False)\n",
        "X_poly = poly.fit_transform(X_scaled)\n",
        "\n",
        "# Разделение данных на тренировочную и тестовую выборки\n",
        "X_train, X_test, Y_train, Y_test = train_test_split(X_poly, Y, test_size=0.2, random_state=42)\n",
        "\n",
        "# Подбор гиперпараметра alpha для Lasso с помощью GridSearchCV\n",
        "lasso = Lasso()\n",
        "param_grid = {'alpha': np.logspace(-2, 3, 50)}  # Диапазон для alpha\n",
        "grid_search = GridSearchCV(lasso, param_grid, cv=5, scoring='neg_mean_absolute_error', n_jobs=-1)\n",
        "grid_search.fit(X_train, Y_train)\n",
        "\n",
        "# Оптимальное alpha\n",
        "\n",
        "best_alpha = grid_search.best_params_['alpha']\n",
        "print(f\"Оптимальное значение alpha: {best_alpha}\")\n",
        "\n",
        "# Обучение модели Lasso с найденным alpha\n",
        "lasso_best = Lasso(alpha=best_alpha)\n",
        "lasso_best.fit(X_train, Y_train)\n",
        "\n",
        "# Прогнозирование на тестовой выборке\n",
        "Y_pred = lasso_best.predict(X_test)\n",
        "\n",
        "# Оценка метрик на тестовых данных\n",
        "mae = mean_absolute_error(Y_test, Y_pred)\n",
        "mse = mean_squared_error(Y_test, Y_pred)\n",
        "rmse = np.sqrt(mse)\n",
        "r2 = r2_score(Y_test, Y_pred)\n",
        "\n",
        "# Кросс-валидация\n",
        "cv_scores = cross_val_score(lasso_best, X_train, Y_train, cv=5, scoring='neg_mean_absolute_error')\n",
        "cv_mae = -cv_scores.mean()\n",
        "\n",
        "print(f\"MAE (кросс-валидация): {cv_mae:.2f}\")\n",
        "print(f\"MAE на тестовых данных: {mae:.2f}\")\n",
        "print(f\"MSE на тестовых данных: {mse:.2f}\")\n",
        "print(f\"RMSE на тестовых данных: {rmse:.2f}\")\n",
        "print(f\"R² на тестовых данных: {r2:.2f}\")\n"
      ],
      "metadata": {
        "id": "IJ5b5G8qFz-r",
        "colab": {
          "base_uri": "https://localhost:8080/"
        },
        "outputId": "3135bba1-55cb-4a8e-b707-1089f4c14c4f"
      },
      "id": "IJ5b5G8qFz-r",
      "execution_count": 23,
      "outputs": [
        {
          "output_type": "stream",
          "name": "stdout",
          "text": [
            "Оптимальное значение alpha: 11.513953993264481\n",
            "MAE (кросс-валидация): 1060.75\n",
            "MAE на тестовых данных: 1074.74\n",
            "MSE на тестовых данных: 1156535.24\n",
            "RMSE на тестовых данных: 1075.42\n",
            "R² на тестовых данных: -0.99\n"
          ]
        },
        {
          "output_type": "stream",
          "name": "stderr",
          "text": [
            "/usr/local/lib/python3.11/dist-packages/sklearn/linear_model/_coordinate_descent.py:695: ConvergenceWarning: Objective did not converge. You might want to increase the number of iterations, check the scale of the features or consider increasing regularisation. Duality gap: 3.327e+03, tolerance: 9.190e+02\n",
            "  model = cd_fast.enet_coordinate_descent(\n",
            "/usr/local/lib/python3.11/dist-packages/sklearn/linear_model/_coordinate_descent.py:695: ConvergenceWarning: Objective did not converge. You might want to increase the number of iterations, check the scale of the features or consider increasing regularisation. Duality gap: 3.327e+03, tolerance: 9.190e+02\n",
            "  model = cd_fast.enet_coordinate_descent(\n",
            "/usr/local/lib/python3.11/dist-packages/sklearn/linear_model/_coordinate_descent.py:695: ConvergenceWarning: Objective did not converge. You might want to increase the number of iterations, check the scale of the features or consider increasing regularisation. Duality gap: 3.486e+03, tolerance: 8.324e+02\n",
            "  model = cd_fast.enet_coordinate_descent(\n",
            "/usr/local/lib/python3.11/dist-packages/sklearn/linear_model/_coordinate_descent.py:695: ConvergenceWarning: Objective did not converge. You might want to increase the number of iterations, check the scale of the features or consider increasing regularisation. Duality gap: 1.283e+03, tolerance: 3.286e+02\n",
            "  model = cd_fast.enet_coordinate_descent(\n",
            "/usr/local/lib/python3.11/dist-packages/sklearn/linear_model/_coordinate_descent.py:695: ConvergenceWarning: Objective did not converge. You might want to increase the number of iterations, check the scale of the features or consider increasing regularisation. Duality gap: 2.795e+03, tolerance: 8.857e+02\n",
            "  model = cd_fast.enet_coordinate_descent(\n",
            "/usr/local/lib/python3.11/dist-packages/sklearn/linear_model/_coordinate_descent.py:695: ConvergenceWarning: Objective did not converge. You might want to increase the number of iterations, check the scale of the features or consider increasing regularisation. Duality gap: 5.821e+03, tolerance: 7.949e+02\n",
            "  model = cd_fast.enet_coordinate_descent(\n"
          ]
        }
      ]
    },
    {
      "cell_type": "markdown",
      "source": [
        "> *Ваши выводы здесь*\n",
        "- Проблема переобучения:  выбранное значение alpha может быть слишком высоким, что слишком сильно ограничивает модель, заставляя её недооценивать сложные зависимости в данных.\n",
        "\n",
        "- Высокая ошибка: Высокие значения MAE, MSE, RMSE и отрицательное R² говорят о том, что модель не даёт хороших результатов.\n",
        "\n",
        "- Регуляризация: Вероятно, необходимо уменьшить значение alpha (коэффициент регуляризации), чтобы улучшить модель."
      ],
      "metadata": {
        "id": "Se0OGR8UF2Td"
      },
      "id": "Se0OGR8UF2Td"
    },
    {
      "cell_type": "markdown",
      "id": "2975ae60",
      "metadata": {
        "id": "2975ae60"
      },
      "source": [
        "### Задание 8.3. (2 балла)\n",
        "\n",
        "Проделаем то же самое с $L_2$-регуляризацией.\n",
        "\n",
        "Обучите модель `Ridge` из библиотеки `sklearn` на полученных полиномиальных факторах, предварительно стандартизировав факторы.\n",
        "\n",
        "Коэффициент регуляризации (`alpha`) подберите самостоятельно с помощью любого известного вам метода подбора гиперпаметров.\n",
        "\n",
        "Используя кросс-валидацию оцените среднее значение выбранной вами метрики (или метрик) на тренировочных и валидационных фолдах.\n",
        "\n",
        "Проинтерпретируйте полученные результаты."
      ]
    },
    {
      "cell_type": "markdown",
      "source": [
        "### Выполненим  L2-регуляризацию (модель Ridge), мы будем использовать аналогичный процесс, как и с L1-регуляризацией. Однако вместо Lasso мы будем использовать модель Ridge, которая применяет L2-регуляризацию, которая штрафует большие значения коэффициентов, но не обнуляет их, как это делает L1-регуляризация."
      ],
      "metadata": {
        "id": "tFXD9V881qGP"
      },
      "id": "tFXD9V881qGP"
    },
    {
      "cell_type": "code",
      "source": [
        "from sklearn.linear_model import Ridge\n",
        "from sklearn.model_selection import GridSearchCV\n",
        "import numpy as np\n",
        "\n",
        "# Признаки и целевая переменная\n",
        "X = df[['AI', 'Brittle', 'VR']]\n",
        "y = df['Prod']\n",
        "\n",
        "# Стандартизируем признаки\n",
        "scaler = StandardScaler()\n",
        "X_scaled = scaler.fit_transform(X)\n",
        "\n",
        "# Генерация полиномиальных признаков (степень 3)\n",
        "poly = PolynomialFeatures(degree=3, include_bias=False)\n",
        "X_poly = poly.fit_transform(X_scaled)\n",
        "\n",
        "# Настроим модель Ridge\n",
        "ridge = Ridge()\n",
        "\n",
        "# Диапазон гиперпараметров для alpha\n",
        "param_grid = {'alpha': np.logspace(-1, 2, 30)}  # Диапазон для alpha\n",
        "\n",
        "\n",
        "# Подбор гиперпараметров с кросс-валидацией\n",
        "grid_search = GridSearchCV(ridge, param_grid, cv=5, scoring='neg_mean_absolute_error', n_jobs=-1)\n",
        "grid_search.fit(X_poly, y)\n",
        "\n",
        "# Оптимальное значение alpha\n",
        "optimal_alpha = grid_search.best_params_['alpha']\n",
        "print(f\"Оптимальное значение alpha: {optimal_alpha}\")\n",
        "\n",
        "\n",
        "# Модель с лучшим alpha\n",
        "best_model = grid_search.best_estimator_\n",
        "\n",
        "# Оценка модели с кросс-валидацией\n",
        "cv_scores = cross_val_score(best_model, X_poly, y, cv=5, scoring='neg_mean_absolute_error')\n",
        "mae_cv = -cv_scores.mean()  # Преобразуем в положительное значение\n",
        "\n",
        "# Прогноз на тестовых данных\n",
        "y_pred = best_model.predict(X_poly)\n",
        "\n",
        "# Метрики на тестовых данных\n",
        "mae_test = np.mean(np.abs(y - y_pred))\n",
        "mse_test = np.mean((y - y_pred) ** 2)\n",
        "rmse_test = np.sqrt(mse_test)\n",
        "r2_test = best_model.score(X_poly, y)\n",
        "\n",
        "# Вывод результатов\n",
        "print(f\"MAE (кросс-валидация): {mae_cv:.2f}\")\n",
        "print(f\"MAE на тестовых данных: {mae_test:.2f}\")\n",
        "print(f\"MSE на тестовых данных: {mse_test:.2f}\")\n",
        "print(f\"RMSE на тестовых данных: {rmse_test:.2f}\")\n",
        "print(f\"R² на тестовых данных: {r2_test:.2f}\")\n"
      ],
      "metadata": {
        "id": "UfPGyNsjGGS8",
        "colab": {
          "base_uri": "https://localhost:8080/"
        },
        "outputId": "76090de6-9b07-41b2-a827-04c28341ea44"
      },
      "id": "UfPGyNsjGGS8",
      "execution_count": 24,
      "outputs": [
        {
          "output_type": "stream",
          "name": "stdout",
          "text": [
            "Оптимальное значение alpha: 100.0\n",
            "MAE (кросс-валидация): 1110.61\n",
            "MAE на тестовых данных: 761.62\n",
            "MSE на тестовых данных: 842503.88\n",
            "RMSE на тестовых данных: 917.88\n",
            "R² на тестовых данных: 0.19\n"
          ]
        }
      ]
    },
    {
      "cell_type": "code",
      "source": [
        "import seaborn as sns\n",
        "import matplotlib.pyplot as plt\n",
        "\n",
        "plt.figure(figsize=(8,6))\n",
        "sns.heatmap(df.corr(), annot=True, cmap='coolwarm', fmt=\".2f\")\n",
        "plt.title(\"Корреляция признаков\")\n",
        "plt.show()\n"
      ],
      "metadata": {
        "colab": {
          "base_uri": "https://localhost:8080/",
          "height": 545
        },
        "id": "7yQmqtQe6AUy",
        "outputId": "f95184b9-e2c3-4a2b-8bd7-4456f7b9e609"
      },
      "id": "7yQmqtQe6AUy",
      "execution_count": 25,
      "outputs": [
        {
          "output_type": "display_data",
          "data": {
            "text/plain": [
              "<Figure size 800x600 with 2 Axes>"
            ],
            "image/png": "[encoded data removed]"
          },
          "metadata": {}
        }
      ]
    },
    {
      "cell_type": "markdown",
      "source": [
        "> *Ваши выводы здесь*"
      ],
      "metadata": {
        "id": "dQBd7ny_GIi1"
      },
      "id": "dQBd7ny_GIi1"
    },
    {
      "cell_type": "markdown",
      "source": [
        "**Критерии оценивания:**\n",
        "\n",
        "- Задание выполнено верно, учтены все условия (**2 балла**):\n",
        "    * правильно построена модель полиномиальной регрессии (линейной регрессии на полиномиальных признаках) с регуляризацией (Ridge), учтены условия необходимости масштабирования факторов для построения модели;\n",
        "    * приведён код для подбора параметра регуляризации (вручную или с помощью библиотечных инструментов);\n",
        "    * с помощью кросс-валидации оценено среднее значение выбранной студентом метрики (или метрик) на тренировочных и валидационных фолдах (метрика должна быть выбрана корректно).\n",
        "\n",
        "- Задание выполнено верно, но не учтено одно из условий (**1 балл**).\n",
        "- Задание выполнено неверно, не учтено несколько условий (**0 баллов**)."
      ],
      "metadata": {
        "id": "86pXnWE7-5ch"
      },
      "id": "86pXnWE7-5ch"
    },
    {
      "cell_type": "markdown",
      "id": "7ad85b78",
      "metadata": {
        "id": "7ad85b78"
      },
      "source": [
        "### Задание 8.4. (2 балла)\n",
        "\n",
        "Наконец, настало время комбинировать $L_1$ и $L_2$ -регуляризации.\n",
        "\n",
        "Обучите модель `ElasticNet` из библиотеки `sklearn` на полученных полиномиальных факторах, предварительно стандартизировав факторы.\n",
        "\n",
        "Коэффициенты регуляризации (`alpha` и `l1-ratio`) подберите самостоятельно с помощью любого известного вам метода подбора гиперпаметров.\n",
        "\n",
        "Используя кросс-валидацию, оцените среднее значение метрики MAPE на тренировочных и валидационных фолдах.\n",
        "\n",
        "Проинтерпретируйте полученные результаты."
      ]
    },
    {
      "cell_type": "markdown",
      "source": [
        "**Критерии оценивания:**\n",
        "\n",
        "- Задание выполнено верно, учтены все условия (**2 балла**):\n",
        "    * правильно построена модель полиномиальной регрессии (линейной регрессии на полиномиальных признаках) с регуляризацией (ElasticNet), учтены условия необходимости масштабирования факторов для построения модели;\n",
        "    * приведён код для подбора параметра регуляризации (вручную или с помощью библиотечных инструментов);\n",
        "    * с помощью кросс-валидации оценено среднее значение выбранной студентом метрики (или метрик) на тренировочных и валидационных фолдах (метрика должна быть выбрана корректно).\n",
        "\n",
        "- Задание выполнено верно, но не учтено одно из условий (**1 балл**).\n",
        "- Задание выполнено неверно, не учтено несколько условий (**0 баллов**)."
      ],
      "metadata": {
        "id": "sy8ESceQ-__u"
      },
      "id": "sy8ESceQ-__u"
    },
    {
      "cell_type": "code",
      "source": [
        "# Ваш код здесь\n",
        "import numpy as np\n",
        "import pandas as pd\n",
        "from sklearn.model_selection import train_test_split, GridSearchCV, cross_val_score\n",
        "from sklearn.preprocessing import PolynomialFeatures, StandardScaler\n",
        "from sklearn.linear_model import ElasticNet\n",
        "from sklearn.metrics import mean_absolute_percentage_error\n",
        "\n",
        "# Предположим, что df — это ваш DataFrame с данными, включая 'Prod' как целевую переменную\n",
        "\n",
        "# Признаки и целевая переменная\n",
        "X = df[['AI', 'Brittle', 'VR']]\n",
        "y = df['Prod']\n",
        "\n",
        "# Стандартизация признаков\n",
        "scaler = StandardScaler()\n",
        "X_scaled = scaler.fit_transform(X)\n",
        "\n",
        "# Генерация полиномиальных признаков (степень 3)\n",
        "poly = PolynomialFeatures(degree=3, include_bias=False)\n",
        "X_poly = poly.fit_transform(X_scaled)\n",
        "\n",
        "# Разделим данные на тренировочные и тестовые\n",
        "X_train, X_val, y_train, y_val = train_test_split(X_poly, y, test_size=0.2, random_state=42)\n",
        "\n",
        "# Модель ElasticNet\n",
        "elastic_net = ElasticNet()\n",
        "\n",
        "# Диапазон значений гиперпараметров для alpha и l1_ratio\n",
        "param_grid = {\n",
        "    'alpha': np.logspace(-4, 4, 100),\n",
        "    'l1_ratio': np.linspace(0, 1, 11)  # Соотношение от L1 только (1) до L2 только (0)\n",
        "}\n",
        "\n",
        "# Подбор гиперпараметров с помощью GridSearchCV\n",
        "grid_search = GridSearchCV(estimator=elastic_net, param_grid=param_grid, cv=5, scoring='neg_mean_absolute_percentage_error', n_jobs=-1)\n",
        "grid_search.fit(X_train, y_train)\n",
        "\n",
        "# Лучшие гиперпараметры\n",
        "best_params = grid_search.best_params_\n",
        "print(f\"Лучшие гиперпараметры: {best_params}\")\n",
        "\n",
        "# Получаем лучшую модель\n",
        "best_model = grid_search.best_estimator_\n",
        "\n",
        "# Оценка с кросс-валидацией\n",
        "cv_scores = cross_val_score(best_model, X_train, y_train, cv=5, scoring='neg_mean_absolute_percentage_error')\n",
        "\n",
        "# Среднее значение MAPE на тренировочных данных\n",
        "mean_mape = -cv_scores.mean()  # Преобразуем в положительное значение\n",
        "print(f\"Среднее значение MAPE на тренировочных данных: {mean_mape:.2f}\")\n",
        "\n",
        "# Прогноз на валидационных данных\n",
        "y_pred_val = best_model.predict(X_val)\n",
        "\n",
        "# MAPE на валидационных данных\n",
        "mape_val = mean_absolute_percentage_error(y_val, y_pred_val)\n",
        "print(f\"MAPE на валидационных данных: {mape_val:.2f}\")\n"
      ],
      "metadata": {
        "id": "-Yi3P20hQnLS",
        "colab": {
          "base_uri": "https://localhost:8080/"
        },
        "outputId": "e5471788-5398-4153-da69-dfdfb34e6dc0"
      },
      "id": "-Yi3P20hQnLS",
      "execution_count": 26,
      "outputs": [
        {
          "output_type": "stream",
          "name": "stdout",
          "text": [
            "Лучшие гиперпараметры: {'alpha': np.float64(2257.0197196339213), 'l1_ratio': np.float64(1.0)}\n",
            "Среднее значение MAPE на тренировочных данных: 0.22\n",
            "MAPE на валидационных данных: 0.19\n"
          ]
        }
      ]
    },
    {
      "cell_type": "markdown",
      "source": [
        "> *Ваши выводы здесь*"
      ],
      "metadata": {
        "id": "er2lAiE9QpAb"
      },
      "id": "er2lAiE9QpAb"
    },
    {
      "cell_type": "markdown",
      "id": "91c6e1d1",
      "metadata": {
        "id": "91c6e1d1"
      },
      "source": [
        "### Задание 8.5. (1 балл)\n",
        "\n",
        "Завершением вашей работы будет сводная таблица результатов, которую вы представите на презентации заказчику Василию.\n",
        "\n",
        "Составьте таблицу (DataFrame) со следующими столбцами (имена столбцов выберите самостоятельно):\n",
        "* Наименование модели.\n",
        "* Гиперпараметры (коэффициенты регуляризации, если таковые имеются), если нет — оставьте ячейку пустой.\n",
        "* Использовались ли полиномиальные признаки при построении модели (Да/Нет или True/False).\n",
        "* Значение выбранной метрики на тренировочных фолдах при кросс-валидации модели.\n",
        "* Значение выбранной метрики на валидационных фолдах при кросс-валидации модели.\n",
        "\n",
        "Сделайте финальный вывод по проделанной работе. Какая линейная модель из тех, что мы рассмотрели, показала наилучший результат с точки зрения качества на валидационных фолдах, а также с точки зрения переобученности?"
      ]
    },
    {
      "cell_type": "markdown",
      "source": [
        "**Критерии оценивания:**\n",
        "\n",
        "- Задание выполнено верно, учтены все условия (**1 балл**):\n",
        "    * верно составлена сводная таблица итоговых результатов построенных ранее моделей с указанными в задании столбцами;\n",
        "    * приведены итоговые выводы по проделанной работе, указано, какая из рассмотренных моделей показала наилучший результат.\n",
        "\n",
        "- Задание выполнено неверно, не учтено одно или несколько условий (**0 баллов**)."
      ],
      "metadata": {
        "id": "OsFRaKkF_nLq"
      },
      "id": "OsFRaKkF_nLq"
    },
    {
      "cell_type": "code",
      "source": [
        "# Ваш код здесь\n",
        "# Пример расчёта MAE для различных моделей, если они еще не были рассчитаны:\n",
        "\n",
        "# MAE для линейной регрессии\n",
        "mae_lr_train =   # замените на актуальное значение\n",
        "mae_lr_val =   # замените на актуальное значение\n",
        "\n",
        "# MAE для полиномиальной регрессии\n",
        "mae_poly_train =   # замените на актуальное значение\n",
        "mae_poly_val =   # замените на актуальное значение\n",
        "\n",
        "# MAE для Lasso\n",
        "mae_lasso_train =   # замените на актуальное значение\n",
        "mae_lasso_val =   # замените на актуальное значение\n",
        "\n",
        "# MAE для Ridge\n",
        "mae_ridge_train =   # замените на актуальное значение\n",
        "mae_ridge_val =   # замените на актуальное значение\n",
        "\n",
        "# MAPE для ElasticNet\n",
        "mean_mape =   # замените на актуальное значение\n",
        "mape_val =   # замените на актуальное значение\n",
        "\n",
        "# После того как метрики определены, можно собрать сводную таблицу\n",
        "results = {\n",
        "    \"Model\": [\"Linear Regression\", \"Polynomial Regression (Degree=3)\", \"Lasso (L1)\", \"Ridge (L2)\", \"ElasticNet (L1+L2)\"],\n",
        "    \"Hyperparameters\": [\"None\", \"None\", \"alpha=2329.95\", \"alpha=1000000.0\", f\"alpha={best_params['alpha']}, l1_ratio={best_params['l1_ratio']}\"],\n",
        "    \"Polynomial Features\": [False, True, True, True, True],\n",
        "    \"CV Train MAE\": [mae_lr_train, mae_poly_train, mae_lasso_train, mae_ridge_train, mean_mape],  # Используем MAPE для ElasticNet\n",
        "    \"CV Validation MAE\": [mae_lr_val, mae_poly_val, mae_lasso_val, mae_ridge_val, mape_val]  # MAPE для ElasticNet\n",
        "}\n",
        "\n",
        "# Преобразуем в DataFrame\n",
        "df_results = pd.DataFrame(results)\n",
        "\n",
        "# Выводим таблицу\n",
        "print(df_results)\n"
      ],
      "metadata": {
        "id": "NkkX6eBeJJeZ"
      },
      "id": "NkkX6eBeJJeZ",
      "execution_count": null,
      "outputs": []
    },
    {
      "cell_type": "code",
      "source": [],
      "metadata": {
        "id": "hkGt_ALtuyTk"
      },
      "id": "hkGt_ALtuyTk",
      "execution_count": null,
      "outputs": []
    },
    {
      "cell_type": "markdown",
      "source": [
        "> *Ваши выводы здесь*"
      ],
      "metadata": {
        "id": "UP7_LSoEQsrA"
      },
      "id": "UP7_LSoEQsrA"
    },
    {
      "cell_type": "code",
      "execution_count": null,
      "id": "752d4445-6a85-4cfb-b520-7b7b0f9a5b20",
      "metadata": {
        "id": "752d4445-6a85-4cfb-b520-7b7b0f9a5b20",
        "colab": {
          "base_uri": "https://localhost:8080/"
        },
        "outputId": "7c93332b-bc12-426a-d869-af49fb6b52e7"
      },
      "outputs": [
        {
          "output_type": "stream",
          "name": "stdout",
          "text": [
            "Средняя MAE на кросс-валидации (отрицательная): 1683.52\n",
            "MAE на тестовых данных: 1223.07\n"
          ]
        }
      ],
      "source": [
        "from sklearn.model_selection import cross_val_score\n",
        "from sklearn.linear_model import LinearRegression\n",
        "from sklearn.metrics import mean_absolute_error\n",
        "import numpy as np\n",
        "\n",
        "# Обучаем модель на обучающей выборке (X_train, Y_train)\n",
        "model = LinearRegression()\n",
        "model.fit(X_train, Y_train)\n",
        "\n",
        "# Применяем кросс-валидацию для оценивания модели\n",
        "cv_scores = cross_val_score(model, X_train, Y_train, cv=5, scoring='neg_mean_absolute_error')\n",
        "\n",
        "# Распечатать результаты кросс-валидации\n",
        "print(f\"Средняя MAE на кросс-валидации (отрицательная): {-cv_scores.mean():.2f}\")\n",
        "# Прогнозируем значения на тестовых данных\n",
        "Y_pred = model.predict(X_test)\n",
        "\n",
        "# Оценим качество модели на тестовых данных\n",
        "mae_test = mean_absolute_error(Y_test, Y_pred)\n",
        "\n",
        "print(f\"MAE на тестовых данных: {mae_test:.2f}\")\n"
      ]
    },
    {
      "cell_type": "code",
      "source": [
        "from sklearn.linear_model import LinearRegression, Lasso, Ridge\n",
        "from sklearn.metrics import mean_absolute_error\n",
        "\n",
        "# Обучение моделей\n",
        "lr = LinearRegression().fit(X_train, y_train)\n",
        "poly_reg = LinearRegression().fit(X_train, y_train)  # Уже используем полиномиальные признаки\n",
        "lasso = Lasso(alpha=2329.95).fit(X_train, y_train)\n",
        "ridge = Ridge(alpha=1000000.0).fit(X_train, y_train)\n",
        "\n",
        "# Предсказания\n",
        "y_train_pred_lr = lr.predict(X_train)\n",
        "y_val_pred_lr = lr.predict(X_val)\n",
        "\n",
        "y_train_pred_poly = poly_reg.predict(X_train)\n",
        "y_val_pred_poly = poly_reg.predict(X_val)\n",
        "\n",
        "y_train_pred_lasso = lasso.predict(X_train)\n",
        "y_val_pred_lasso = lasso.predict(X_val)\n",
        "\n",
        "y_train_pred_ridge = ridge.predict(X_train)\n",
        "y_val_pred_ridge = ridge.predict(X_val)\n",
        "\n",
        "# MAE для каждой модели\n",
        "mae_lr_train = mean_absolute_error(y_train, y_train_pred_lr)\n",
        "mae_lr_val = mean_absolute_error(y_val, y_val_pred_lr)\n",
        "\n",
        "mae_poly_train = mean_absolute_error(y_train, y_train_pred_poly)\n",
        "mae_poly_val = mean_absolute_error(y_val, y_val_pred_poly)\n",
        "\n",
        "mae_lasso_train = mean_absolute_error(y_train, y_train_pred_lasso)\n",
        "mae_lasso_val = mean_absolute_error(y_val, y_val_pred_lasso)\n",
        "\n",
        "mae_ridge_train = mean_absolute_error(y_train, y_train_pred_ridge)\n",
        "mae_ridge_val = mean_absolute_error(y_val, y_val_pred_ridge)\n",
        "\n",
        "# MAPE для ElasticNet (он уже рассчитывался в твоем коде)\n"
      ],
      "metadata": {
        "id": "AwXXqGtouzW4"
      },
      "id": "AwXXqGtouzW4",
      "execution_count": 27,
      "outputs": []
    },
    {
      "cell_type": "code",
      "source": [
        "results = {\n",
        "    \"Model\": [\"Linear Regression\", \"Polynomial Regression (Degree=3)\", \"Lasso (L1)\", \"Ridge (L2)\", \"ElasticNet (L1+L2)\"],\n",
        "    \"Hyperparameters\": [\"None\", \"None\", \"alpha=2329.95\", \"alpha=1000000.0\", f\"alpha={best_params['alpha']}, l1_ratio={best_params['l1_ratio']}\"],\n",
        "    \"Polynomial Features\": [False, True, True, True, True],\n",
        "    \"CV Train MAE\": [mae_lr_train, mae_poly_train, mae_lasso_train, mae_ridge_train, mean_mape],  # MAPE вместо MAE для ElasticNet\n",
        "    \"CV Validation MAE\": [mae_lr_val, mae_poly_val, mae_lasso_val, mae_ridge_val, mape_val]  # MAPE вместо MAE для ElasticNet\n",
        "}\n",
        "\n",
        "df_results = pd.DataFrame(results)\n",
        "print(df_results)\n"
      ],
      "metadata": {
        "colab": {
          "base_uri": "https://localhost:8080/"
        },
        "id": "4Np8abeJu3G2",
        "outputId": "4158e33b-fca9-408a-d10d-f949ddf3a2ad"
      },
      "id": "4Np8abeJu3G2",
      "execution_count": 28,
      "outputs": [
        {
          "output_type": "stream",
          "name": "stdout",
          "text": [
            "                              Model                         Hyperparameters  \\\n",
            "0                 Linear Regression                                    None   \n",
            "1  Polynomial Regression (Degree=3)                                    None   \n",
            "2                        Lasso (L1)                           alpha=2329.95   \n",
            "3                        Ridge (L2)                         alpha=1000000.0   \n",
            "4                ElasticNet (L1+L2)  alpha=2257.0197196339213, l1_ratio=1.0   \n",
            "\n",
            "   Polynomial Features  CV Train MAE  CV Validation MAE  \n",
            "0                False  6.252776e-13        1223.069094  \n",
            "1                 True  6.252776e-13        1223.069094  \n",
            "2                 True  9.210681e+02         763.222972  \n",
            "3                 True  9.210425e+02         763.214984  \n",
            "4                 True  2.196784e-01           0.192070  \n"
          ]
        }
      ]
    }
  ],
  "metadata": {
    "kernelspec": {
      "display_name": "Python 3.10.8 ('base')",
      "language": "python",
      "name": "python3"
    },
    "language_info": {
      "codemirror_mode": {
        "name": "ipython",
        "version": 3
      },
      "file_extension": ".py",
      "mimetype": "text/x-python",
      "name": "python",
      "nbconvert_exporter": "python",
      "pygments_lexer": "ipython3",
      "version": "3.10.8"
    },
    "vscode": {
      "interpreter": {
        "hash": "86c56a74836ad344b00594bf6f38fa6a676a207ceefe20d101fbc465800ccb8d"
      }
    },
    "colab": {
      "provenance": [],
      "include_colab_link": true
    }
  },
  "nbformat": 4,
  "nbformat_minor": 5
}